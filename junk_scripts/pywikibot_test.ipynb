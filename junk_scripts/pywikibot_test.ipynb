{
 "cells": [
  {
   "cell_type": "code",
   "execution_count": 1,
   "metadata": {
    "collapsed": true
   },
   "outputs": [],
   "source": [
    "import pywikibot"
   ]
  },
  {
   "cell_type": "code",
   "execution_count": 3,
   "metadata": {
    "collapsed": true
   },
   "outputs": [],
   "source": [
    "site = pywikibot.Site(\"commons\",\"commons\")\n",
    "page = pywikibot.Page(site, \"User:COHBot\")"
   ]
  },
  {
   "cell_type": "code",
   "execution_count": 4,
   "metadata": {
    "collapsed": false
   },
   "outputs": [
    {
     "name": "stdout",
     "output_type": "stream",
     "text": [
      "[[commons:User:COHBot]]\n"
     ]
    }
   ],
   "source": [
    "print(page)"
   ]
  },
  {
   "cell_type": "code",
   "execution_count": 6,
   "metadata": {
    "collapsed": false
   },
   "outputs": [
    {
     "data": {
      "text/plain": [
       "True"
      ]
     },
     "execution_count": 6,
     "metadata": {},
     "output_type": "execute_result"
    }
   ],
   "source": [
    "page.exists()"
   ]
  },
  {
   "cell_type": "code",
   "execution_count": 8,
   "metadata": {
    "collapsed": false
   },
   "outputs": [
    {
     "data": {
      "text/plain": [
       "True"
      ]
     },
     "execution_count": 8,
     "metadata": {},
     "output_type": "execute_result"
    }
   ],
   "source": [
    "page.botMayEdit()"
   ]
  },
  {
   "cell_type": "code",
   "execution_count": 11,
   "metadata": {
    "collapsed": false
   },
   "outputs": [
    {
     "name": "stdout",
     "output_type": "stream",
     "text": [
      "\n",
      "{| class=\"messagebox layouttemplate\" style=\"direction: ltr;\"\n",
      "|align=\"center\"|[[File:Gnome-system-run.svg|54px|Bot|link=]]\n",
      "|width=\"100%\"|<span lang=\"en\" xml:lang=\"en\" class=\"description en\">'''This user account is a [[Commons:Bots|bot]] operated by [[::User:Mattias Östmar (WMSE)|Mattias Östmar (WMSE)]] ([[::User talk:Mattias Östmar (WMSE)|talk]]).''' For details see [[Commons:Batch uploading/COH]].  \n",
      "It is not a [[w:Wikipedia:Sock puppetry|sock puppet]], but rather an automated or semi-automated account for making repetitive edits that would be extremely tedious to do manually.<br /><small>''Administrators: if this bot is malfunctioning or causing harm, please [//commons.wikimedia.org/w/index.php?title=Special:Blockip&wpTarget=COHBot&wpExpiry=indefinite&wpAnonOnly=0&wpHardBlock=1&wpAutoBlock=0&wpCreateAccount=0&wpReason=other&wpReason-other=Bot%20malfunctioning:%20 block it].''</small></span>\n",
      "----\n",
      "<span class=\"plainlinks\"><small>[[Commons:Bots/Requests/COHBot|tasks]] &bull; [[Special:Contributions/COHBot|contribs]] &bull; [//tools.wmflabs.org/xtools/sc/index.php?lang=commons&wiki=wikimedia&name=COHBot <span style=\"color:#002bb8\">count</span>] &bull; [//commons.wikimedia.org/w/index.php?title=Special:Log&user=COHBot <span style=\"color:#002bb8\">logs</span>] &bull; [//commons.wikimedia.org/w/index.php?title=Special:Log/move&user=COHBot <span style=\"color:#002bb8\">page moves</span>] <span class=\"adminonly\">&bull; [[Special:Blockip/COHBot|block user]] </span>&bull; [//commons.wikimedia.org/w/index.php?title=Special:Log/block&page=User:COHBot <span style=\"color:#002bb8\">block log</span>] &bull; [//commons.wikimedia.org/w/index.php?title=Special:Log&type=rights&user=&page=User:COHBot flag log]  &bull; [[:luxo:COHBot|global contribs]]<span class=\"adminonly\"> &bull; [[Special:Makebot/COHBot|flag bot]]</span></small></span>\n",
      "|}[[Category:Commons bots|COHBot]][[Category:Commons upload bots|COHBot]]\n",
      "<center>\n",
      "<span style=\"text-align: center; font-size: 1.8em; line-height:normal\">Emergency bot shutoff button</span>\n",
      "<br><br>\n",
      "[[File:Dialog-stop-hand.svg|120px|link=//commons.wikimedia.org/w/index.php?title=Special:Blockip&wpTarget=COHBot&wpExpiry=indefinite&wpAnonOnly=0&wpHardBlock=1&wpAutoBlock=0&wpCreateAccount=0&wpReason=other&wpReason-other=Bot%20malfunctioning:%20]]\n",
      "<br>\n",
      "'''[[Commons:Administrators|Administrators]]:''' Use this button if the bot is malfunctioning.\n",
      "<br>\n",
      "Non-administrators can report misbehaving bots to [[Commons:Administrators' noticeboard]].\n",
      "</center>\n",
      "\n",
      "[[Category:Emergency shutoff compliant bots|COHBot]]\n"
     ]
    }
   ],
   "source": [
    "print(page.expand_text())"
   ]
  },
  {
   "cell_type": "code",
   "execution_count": 12,
   "metadata": {
    "collapsed": true
   },
   "outputs": [],
   "source": [
    "heading = \"== Batch uploads ==\"\n",
    "comment = \"* [[Commons:Gruppo_Archeologico_Romano|GAR_Syra_2016-06]]\"\n",
    "message = \"\\n\\n{}\\n{}\\n --~~~~ \".format(heading, comment)"
   ]
  },
  {
   "cell_type": "code",
   "execution_count": 13,
   "metadata": {
    "collapsed": false
   },
   "outputs": [
    {
     "name": "stderr",
     "output_type": "stream",
     "text": [
      "Password for user COHBot on commons:commons (no characters will be shown): "
     ]
    },
    {
     "name": "stdout",
     "output_type": "stream",
     "text": [
      "········\n"
     ]
    },
    {
     "name": "stderr",
     "output_type": "stream",
     "text": [
      "Logging in to commons:commons as COHBot\n",
      "WARNING: API warning (login): Fetching a token via action=login is deprecated. Use action=query&meta=tokens&type=login instead.\n",
      "WARNING: API warning (login): Main-account login via action=login is deprecated and may stop working without warning. To continue login with action=login, see [[Special:BotPasswords]]. To safely continue using main-account login, see action=clientlogin.\n"
     ]
    },
    {
     "ename": "TypeError",
     "evalue": "editpage() got an unexpected keyword argument 'appendtext'",
     "output_type": "error",
     "traceback": [
      "\u001b[0;31m---------------------------------------------------------------------------\u001b[0m",
      "\u001b[0;31mTypeError\u001b[0m                                 Traceback (most recent call last)",
      "\u001b[0;32m<ipython-input-13-ee4404a9bdfe>\u001b[0m in \u001b[0;36m<module>\u001b[0;34m()\u001b[0m\n\u001b[1;32m      1\u001b[0m page.save(summary=\"Testing\", watch=None, minor=False, botflag=False,\n\u001b[1;32m      2\u001b[0m              \u001b[0mforce\u001b[0m\u001b[0;34m=\u001b[0m\u001b[0;32mFalse\u001b[0m\u001b[0;34m,\u001b[0m \u001b[0masync\u001b[0m\u001b[0;34m=\u001b[0m\u001b[0;32mFalse\u001b[0m\u001b[0;34m,\u001b[0m \u001b[0mcallback\u001b[0m\u001b[0;34m=\u001b[0m\u001b[0;32mNone\u001b[0m\u001b[0;34m,\u001b[0m\u001b[0;34m\u001b[0m\u001b[0m\n\u001b[0;32m----> 3\u001b[0;31m              apply_cosmetic_changes=None, appendtext=message)\n\u001b[0m",
      "\u001b[0;32m/Users/mos/anaconda/lib/python3.5/site-packages/pywikibot/tools/__init__.py\u001b[0m in \u001b[0;36mwrapper\u001b[0;34m(*__args, **__kw)\u001b[0m\n\u001b[1;32m   1103\u001b[0m                              cls, depth)\n\u001b[1;32m   1104\u001b[0m                     \u001b[0;32mdel\u001b[0m \u001b[0m__kw\u001b[0m\u001b[0;34m[\u001b[0m\u001b[0mold_arg\u001b[0m\u001b[0;34m]\u001b[0m\u001b[0;34m\u001b[0m\u001b[0m\n\u001b[0;32m-> 1105\u001b[0;31m             \u001b[0;32mreturn\u001b[0m \u001b[0mobj\u001b[0m\u001b[0;34m(\u001b[0m\u001b[0;34m*\u001b[0m\u001b[0m__args\u001b[0m\u001b[0;34m,\u001b[0m \u001b[0;34m**\u001b[0m\u001b[0m__kw\u001b[0m\u001b[0;34m)\u001b[0m\u001b[0;34m\u001b[0m\u001b[0m\n\u001b[0m\u001b[1;32m   1106\u001b[0m \u001b[0;34m\u001b[0m\u001b[0m\n\u001b[1;32m   1107\u001b[0m         \u001b[0;32mif\u001b[0m \u001b[0;32mnot\u001b[0m \u001b[0m__debug__\u001b[0m\u001b[0;34m:\u001b[0m\u001b[0;34m\u001b[0m\u001b[0m\n",
      "\u001b[0;32m/Users/mos/anaconda/lib/python3.5/site-packages/pywikibot/page.py\u001b[0m in \u001b[0;36msave\u001b[0;34m(self, summary, watch, minor, botflag, force, async, callback, apply_cosmetic_changes, **kwargs)\u001b[0m\n\u001b[1;32m   1061\u001b[0m             self._save(summary=summary, minor=minor, watch=watch,\n\u001b[1;32m   1062\u001b[0m                        \u001b[0mbotflag\u001b[0m\u001b[0;34m=\u001b[0m\u001b[0mbotflag\u001b[0m\u001b[0;34m,\u001b[0m \u001b[0masync\u001b[0m\u001b[0;34m=\u001b[0m\u001b[0masync\u001b[0m\u001b[0;34m,\u001b[0m \u001b[0mcallback\u001b[0m\u001b[0;34m=\u001b[0m\u001b[0mcallback\u001b[0m\u001b[0;34m,\u001b[0m\u001b[0;34m\u001b[0m\u001b[0m\n\u001b[0;32m-> 1063\u001b[0;31m                        cc=apply_cosmetic_changes, **kwargs)\n\u001b[0m\u001b[1;32m   1064\u001b[0m \u001b[0;34m\u001b[0m\u001b[0m\n\u001b[1;32m   1065\u001b[0m     def _save(self, summary, minor, watch, botflag, async, callback,\n",
      "\u001b[0;32m/Users/mos/anaconda/lib/python3.5/site-packages/pywikibot/page.py\u001b[0m in \u001b[0;36m_save\u001b[0;34m(self, summary, minor, watch, botflag, async, callback, cc, **kwargs)\u001b[0m\n\u001b[1;32m   1072\u001b[0m         \u001b[0;32mtry\u001b[0m\u001b[0;34m:\u001b[0m\u001b[0;34m\u001b[0m\u001b[0m\n\u001b[1;32m   1073\u001b[0m             done = self.site.editpage(self, summary=summary, minor=minor,\n\u001b[0;32m-> 1074\u001b[0;31m                                       watch=watch, bot=botflag, **kwargs)\n\u001b[0m\u001b[1;32m   1075\u001b[0m             \u001b[0;32mif\u001b[0m \u001b[0;32mnot\u001b[0m \u001b[0mdone\u001b[0m\u001b[0;34m:\u001b[0m\u001b[0;34m\u001b[0m\u001b[0m\n\u001b[1;32m   1076\u001b[0m                 \u001b[0mpywikibot\u001b[0m\u001b[0;34m.\u001b[0m\u001b[0mwarning\u001b[0m\u001b[0;34m(\u001b[0m\u001b[0;34mu\"Page %s not saved\"\u001b[0m \u001b[0;34m%\u001b[0m \u001b[0mlink\u001b[0m\u001b[0;34m)\u001b[0m\u001b[0;34m\u001b[0m\u001b[0m\n",
      "\u001b[0;32m/Users/mos/anaconda/lib/python3.5/site-packages/pywikibot/site.py\u001b[0m in \u001b[0;36mcallee\u001b[0;34m(self, *args, **kwargs)\u001b[0m\n\u001b[1;32m   1085\u001b[0m             \u001b[0;32melse\u001b[0m\u001b[0;34m:\u001b[0m\u001b[0;34m\u001b[0m\u001b[0m\n\u001b[1;32m   1086\u001b[0m                 \u001b[0;32mraise\u001b[0m \u001b[0mException\u001b[0m\u001b[0;34m(\u001b[0m\u001b[0;34m\"Not implemented\"\u001b[0m\u001b[0;34m)\u001b[0m\u001b[0;34m\u001b[0m\u001b[0m\n\u001b[0;32m-> 1087\u001b[0;31m             \u001b[0;32mreturn\u001b[0m \u001b[0mfn\u001b[0m\u001b[0;34m(\u001b[0m\u001b[0mself\u001b[0m\u001b[0;34m,\u001b[0m \u001b[0;34m*\u001b[0m\u001b[0margs\u001b[0m\u001b[0;34m,\u001b[0m \u001b[0;34m**\u001b[0m\u001b[0mkwargs\u001b[0m\u001b[0;34m)\u001b[0m\u001b[0;34m\u001b[0m\u001b[0m\n\u001b[0m\u001b[1;32m   1088\u001b[0m \u001b[0;34m\u001b[0m\u001b[0m\n\u001b[1;32m   1089\u001b[0m         \u001b[0;32mif\u001b[0m \u001b[0;32mnot\u001b[0m \u001b[0m__debug__\u001b[0m\u001b[0;34m:\u001b[0m\u001b[0;34m\u001b[0m\u001b[0m\n",
      "\u001b[0;31mTypeError\u001b[0m: editpage() got an unexpected keyword argument 'appendtext'"
     ]
    }
   ],
   "source": [
    "page.save(summary=\"Testing\", watch=None, minor=False, botflag=False,\n",
    "             force=False, async=False, callback=None,\n",
    "             apply_cosmetic_changes=None, appendtext=message)"
   ]
  },
  {
   "cell_type": "code",
   "execution_count": 15,
   "metadata": {
    "collapsed": true
   },
   "outputs": [],
   "source": [
    "page.text?"
   ]
  },
  {
   "cell_type": "code",
   "execution_count": null,
   "metadata": {
    "collapsed": true
   },
   "outputs": [],
   "source": [
    "pwb."
   ]
  }
 ],
 "metadata": {
  "anaconda-cloud": {},
  "kernelspec": {
   "display_name": "Python [Root]",
   "language": "python",
   "name": "Python [Root]"
  },
  "language_info": {
   "codemirror_mode": {
    "name": "ipython",
    "version": 3
   },
   "file_extension": ".py",
   "mimetype": "text/x-python",
   "name": "python",
   "nbconvert_exporter": "python",
   "pygments_lexer": "ipython3",
   "version": "3.5.1"
  }
 },
 "nbformat": 4,
 "nbformat_minor": 0
}
