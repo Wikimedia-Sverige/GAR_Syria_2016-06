{
 "cells": [
  {
   "cell_type": "code",
   "execution_count": null,
   "metadata": {
    "collapsed": false,
    "hide_input": false,
    "nbpresent": {
     "id": "a97ff06c-9f13-4e09-9906-5c427bbf9ed9"
    },
    "slideshow": {
     "slide_type": "skip"
    }
   },
   "outputs": [],
   "source": [
    "!pip install regex # A sligthly better version of RE\n",
    "!pip install html5lib # For Pandas read_html used to parse mapping wikitables \n",
    "!pip install pandas # A great library for data wrangling (and analysis) "
   ]
  },
  {
   "cell_type": "code",
   "execution_count": 13,
   "metadata": {
    "collapsed": false
   },
   "outputs": [],
   "source": [
    "import pandas as pd \n",
    "import regex\n",
    "import os "
   ]
  },
  {
   "cell_type": "markdown",
   "metadata": {
    "nbpresent": {
     "id": "8c4677f9-fc98-4410-a9d9-9e3fb02b696d"
    },
    "slideshow": {
     "slide_type": "slide"
    }
   },
   "source": [
    "# Metadata and mappings\n",
    "The template mapping can be found here:\n",
    "\n",
    "Phabricator task [T139724](https://phabricator.wikimedia.org/T139724)\n",
    "\n",
    "The original metadata is a Google Spreadsheet located here:\n",
    "\n",
    "https://docs.google.com/spreadsheets/d/1s6l0Ms_14_b3wZhPHGgbCYFCs0nrKlD9E-Uxk_r3Mnc/edit?ts=57737736#gid=0\n",
    "\n",
    "The doc below is downloaded locally 2016-07-19 16:55"
   ]
  },
  {
   "cell_type": "code",
   "execution_count": 75,
   "metadata": {
    "collapsed": false,
    "nbpresent": {
     "id": "65a0dddd-8653-40dc-872f-eec1555ba29e"
    },
    "slideshow": {
     "slide_type": "subslide"
    }
   },
   "outputs": [],
   "source": [
    "def strip(text):\n",
    "    try:\n",
    "        return text.strip()\n",
    "    except AttributeError:\n",
    "        return text\n",
    "    \n",
    "it_converters = {\"Nome_foto\":strip, \"Anno\":strip, \"Luogo\":strip, \"Nome_monumento\":strip, \"Descrizione\":strip, \"Nome_autore\":strip}\n",
    "metadata_it = pd.read_excel(\"./data/COH_GAR_metadata.xlsx\",sheetname=\"Italian\", skiprows=[1], converters=it_converters) # empty first row\n",
    "\n",
    "en_converters = {\"Title\":strip, \"Year\":strip, \"Place\": strip, \"Subject\":strip, \"Description\":strip, \"Author\":strip, \"Commons_category\":strip}\n",
    "metadata_en = pd.read_excel(\"./data/COH_GAR_metadata.xlsx\",sheetname=\"English\", converters=en_converters)"
   ]
  },
  {
   "cell_type": "code",
   "execution_count": 76,
   "metadata": {
    "collapsed": false,
    "nbpresent": {
     "id": "6c99fc00-d9a7-4d45-92a3-fd14877885ae"
    },
    "slideshow": {
     "slide_type": "subslide"
    }
   },
   "outputs": [
    {
     "data": {
      "text/html": [
       "<div>\n",
       "<table border=\"1\" class=\"dataframe\">\n",
       "  <thead>\n",
       "    <tr style=\"text-align: right;\">\n",
       "      <th></th>\n",
       "      <th>Nome_foto</th>\n",
       "      <th>Anno</th>\n",
       "      <th>Luogo</th>\n",
       "      <th>Nome_monumento</th>\n",
       "      <th>Descrizione</th>\n",
       "      <th>Nome_autore</th>\n",
       "    </tr>\n",
       "  </thead>\n",
       "  <tbody>\n",
       "    <tr>\n",
       "      <th>0</th>\n",
       "      <td>Aleppo_Cittadella_01</td>\n",
       "      <td>2006</td>\n",
       "      <td>Aleppo</td>\n",
       "      <td>Cittadella</td>\n",
       "      <td>Porta di ingresso</td>\n",
       "      <td>GAR_Ilario Di Nardo</td>\n",
       "    </tr>\n",
       "    <tr>\n",
       "      <th>1</th>\n",
       "      <td>Amrit_Sepolcro_01</td>\n",
       "      <td>2006</td>\n",
       "      <td>Amrit</td>\n",
       "      <td>Meghazil Sepolcro</td>\n",
       "      <td>NaN</td>\n",
       "      <td>GAR_Ilario Di Nardo</td>\n",
       "    </tr>\n",
       "    <tr>\n",
       "      <th>2</th>\n",
       "      <td>Bosra_Teatro Romano_01</td>\n",
       "      <td>2006</td>\n",
       "      <td>Bosra</td>\n",
       "      <td>Teatro Romano</td>\n",
       "      <td>Bosra è un'antica città nel sud della Siria, p...</td>\n",
       "      <td>GAR_Ilario Di Nardo</td>\n",
       "    </tr>\n",
       "    <tr>\n",
       "      <th>3</th>\n",
       "      <td>Damasco_Tempio di Giove_01</td>\n",
       "      <td>2006</td>\n",
       "      <td>Damasco</td>\n",
       "      <td>Tempio di Giove</td>\n",
       "      <td>Rovine del tempio di Giove all'ingresso del Su...</td>\n",
       "      <td>GAR_Ilario Di Nardo</td>\n",
       "    </tr>\n",
       "    <tr>\n",
       "      <th>4</th>\n",
       "      <td>Dura Europos_Panorama_01</td>\n",
       "      <td>2006</td>\n",
       "      <td>Dura Europos</td>\n",
       "      <td>Panorama</td>\n",
       "      <td>NaN</td>\n",
       "      <td>GAR_Ilario Di Nardo</td>\n",
       "    </tr>\n",
       "  </tbody>\n",
       "</table>\n",
       "</div>"
      ],
      "text/plain": [
       "                    Nome_foto  Anno         Luogo     Nome_monumento  \\\n",
       "0        Aleppo_Cittadella_01  2006        Aleppo         Cittadella   \n",
       "1           Amrit_Sepolcro_01  2006         Amrit  Meghazil Sepolcro   \n",
       "2      Bosra_Teatro Romano_01  2006         Bosra      Teatro Romano   \n",
       "3  Damasco_Tempio di Giove_01  2006       Damasco    Tempio di Giove   \n",
       "4    Dura Europos_Panorama_01  2006  Dura Europos           Panorama   \n",
       "\n",
       "                                         Descrizione          Nome_autore  \n",
       "0                                  Porta di ingresso  GAR_Ilario Di Nardo  \n",
       "1                                                NaN  GAR_Ilario Di Nardo  \n",
       "2  Bosra è un'antica città nel sud della Siria, p...  GAR_Ilario Di Nardo  \n",
       "3  Rovine del tempio di Giove all'ingresso del Su...  GAR_Ilario Di Nardo  \n",
       "4                                                NaN  GAR_Ilario Di Nardo  "
      ]
     },
     "execution_count": 76,
     "metadata": {},
     "output_type": "execute_result"
    }
   ],
   "source": [
    "metadata_it.head()"
   ]
  },
  {
   "cell_type": "code",
   "execution_count": 77,
   "metadata": {
    "collapsed": false,
    "nbpresent": {
     "id": "d287d7d1-e53f-4b5b-8346-dcc13dfc144e"
    },
    "slideshow": {
     "slide_type": "subslide"
    }
   },
   "outputs": [
    {
     "data": {
      "text/html": [
       "<div>\n",
       "<table border=\"1\" class=\"dataframe\">\n",
       "  <thead>\n",
       "    <tr style=\"text-align: right;\">\n",
       "      <th></th>\n",
       "      <th>Title</th>\n",
       "      <th>Year</th>\n",
       "      <th>Place</th>\n",
       "      <th>Subject</th>\n",
       "      <th>Description</th>\n",
       "      <th>Author</th>\n",
       "      <th>Commons_category</th>\n",
       "    </tr>\n",
       "  </thead>\n",
       "  <tbody>\n",
       "    <tr>\n",
       "      <th>0</th>\n",
       "      <td>Aleppo_Cittadella_01</td>\n",
       "      <td>2006</td>\n",
       "      <td>Aleppo</td>\n",
       "      <td>Citadel</td>\n",
       "      <td>Porta di ingresso</td>\n",
       "      <td>GAR_Ilario Di Nardo</td>\n",
       "      <td>Exterior views of Aleppo citadel</td>\n",
       "    </tr>\n",
       "    <tr>\n",
       "      <th>1</th>\n",
       "      <td>Amrit_Sepolcro_01</td>\n",
       "      <td>2006</td>\n",
       "      <td>Amrit</td>\n",
       "      <td>Meghazil tomb</td>\n",
       "      <td>NaN</td>\n",
       "      <td>GAR_Ilario Di Nardo</td>\n",
       "      <td>Amrit</td>\n",
       "    </tr>\n",
       "    <tr>\n",
       "      <th>2</th>\n",
       "      <td>Bosra_Teatro Romano_01</td>\n",
       "      <td>2006</td>\n",
       "      <td>Bosra</td>\n",
       "      <td>Roman theater</td>\n",
       "      <td>Bosra è un'antica città nel sud della Siria, p...</td>\n",
       "      <td>GAR_Ilario Di Nardo</td>\n",
       "      <td>Ancient Roman theatre (Bosra)</td>\n",
       "    </tr>\n",
       "    <tr>\n",
       "      <th>3</th>\n",
       "      <td>Damasco_Tempio di Giove_01</td>\n",
       "      <td>2006</td>\n",
       "      <td>Damascus</td>\n",
       "      <td>Ruins of Jupiter Temple at the entrance of Suq...</td>\n",
       "      <td>Rovine del tempio di Giove all'ingresso del Su...</td>\n",
       "      <td>GAR_Ilario Di Nardo</td>\n",
       "      <td>Temple of Jupiter (Damascus)</td>\n",
       "    </tr>\n",
       "    <tr>\n",
       "      <th>4</th>\n",
       "      <td>Dura Europos_Panorama_01</td>\n",
       "      <td>2006</td>\n",
       "      <td>Dura Europos</td>\n",
       "      <td>General view</td>\n",
       "      <td>NaN</td>\n",
       "      <td>GAR_Ilario Di Nardo</td>\n",
       "      <td>Dura Europos</td>\n",
       "    </tr>\n",
       "  </tbody>\n",
       "</table>\n",
       "</div>"
      ],
      "text/plain": [
       "                        Title  Year         Place  \\\n",
       "0        Aleppo_Cittadella_01  2006        Aleppo   \n",
       "1           Amrit_Sepolcro_01  2006         Amrit   \n",
       "2      Bosra_Teatro Romano_01  2006         Bosra   \n",
       "3  Damasco_Tempio di Giove_01  2006      Damascus   \n",
       "4    Dura Europos_Panorama_01  2006  Dura Europos   \n",
       "\n",
       "                                             Subject  \\\n",
       "0                                            Citadel   \n",
       "1                                      Meghazil tomb   \n",
       "2                                      Roman theater   \n",
       "3  Ruins of Jupiter Temple at the entrance of Suq...   \n",
       "4                                       General view   \n",
       "\n",
       "                                         Description               Author  \\\n",
       "0                                  Porta di ingresso  GAR_Ilario Di Nardo   \n",
       "1                                                NaN  GAR_Ilario Di Nardo   \n",
       "2  Bosra è un'antica città nel sud della Siria, p...  GAR_Ilario Di Nardo   \n",
       "3  Rovine del tempio di Giove all'ingresso del Su...  GAR_Ilario Di Nardo   \n",
       "4                                                NaN  GAR_Ilario Di Nardo   \n",
       "\n",
       "                   Commons_category  \n",
       "0  Exterior views of Aleppo citadel  \n",
       "1                             Amrit  \n",
       "2     Ancient Roman theatre (Bosra)  \n",
       "3      Temple of Jupiter (Damascus)  \n",
       "4                      Dura Europos  "
      ]
     },
     "execution_count": 77,
     "metadata": {},
     "output_type": "execute_result"
    }
   ],
   "source": [
    "metadata_en.head()"
   ]
  },
  {
   "cell_type": "code",
   "execution_count": 78,
   "metadata": {
    "collapsed": false,
    "nbpresent": {
     "id": "3769fd33-b858-4ca8-8eb6-81e00e394642"
    },
    "slideshow": {
     "slide_type": "subslide"
    }
   },
   "outputs": [
    {
     "data": {
      "text/html": [
       "<div>\n",
       "<table border=\"1\" class=\"dataframe\">\n",
       "  <thead>\n",
       "    <tr style=\"text-align: right;\">\n",
       "      <th></th>\n",
       "      <th>Nome_foto</th>\n",
       "      <th>Anno</th>\n",
       "      <th>Luogo</th>\n",
       "      <th>Nome_monumento</th>\n",
       "      <th>Descrizione</th>\n",
       "      <th>Nome_autore</th>\n",
       "      <th>Title</th>\n",
       "      <th>Year</th>\n",
       "      <th>Place</th>\n",
       "      <th>Subject</th>\n",
       "      <th>Description</th>\n",
       "      <th>Author</th>\n",
       "      <th>Commons_category</th>\n",
       "    </tr>\n",
       "  </thead>\n",
       "  <tbody>\n",
       "    <tr>\n",
       "      <th>0</th>\n",
       "      <td>Aleppo_Cittadella_01</td>\n",
       "      <td>2006</td>\n",
       "      <td>Aleppo</td>\n",
       "      <td>Cittadella</td>\n",
       "      <td>Porta di ingresso</td>\n",
       "      <td>GAR_Ilario Di Nardo</td>\n",
       "      <td>Aleppo_Cittadella_01</td>\n",
       "      <td>2006</td>\n",
       "      <td>Aleppo</td>\n",
       "      <td>Citadel</td>\n",
       "      <td>Porta di ingresso</td>\n",
       "      <td>GAR_Ilario Di Nardo</td>\n",
       "      <td>Exterior views of Aleppo citadel</td>\n",
       "    </tr>\n",
       "    <tr>\n",
       "      <th>1</th>\n",
       "      <td>Amrit_Sepolcro_01</td>\n",
       "      <td>2006</td>\n",
       "      <td>Amrit</td>\n",
       "      <td>Meghazil Sepolcro</td>\n",
       "      <td>NaN</td>\n",
       "      <td>GAR_Ilario Di Nardo</td>\n",
       "      <td>Amrit_Sepolcro_01</td>\n",
       "      <td>2006</td>\n",
       "      <td>Amrit</td>\n",
       "      <td>Meghazil tomb</td>\n",
       "      <td>NaN</td>\n",
       "      <td>GAR_Ilario Di Nardo</td>\n",
       "      <td>Amrit</td>\n",
       "    </tr>\n",
       "    <tr>\n",
       "      <th>2</th>\n",
       "      <td>Bosra_Teatro Romano_01</td>\n",
       "      <td>2006</td>\n",
       "      <td>Bosra</td>\n",
       "      <td>Teatro Romano</td>\n",
       "      <td>Bosra è un'antica città nel sud della Siria, p...</td>\n",
       "      <td>GAR_Ilario Di Nardo</td>\n",
       "      <td>Bosra_Teatro Romano_01</td>\n",
       "      <td>2006</td>\n",
       "      <td>Bosra</td>\n",
       "      <td>Roman theater</td>\n",
       "      <td>Bosra è un'antica città nel sud della Siria, p...</td>\n",
       "      <td>GAR_Ilario Di Nardo</td>\n",
       "      <td>Ancient Roman theatre (Bosra)</td>\n",
       "    </tr>\n",
       "    <tr>\n",
       "      <th>3</th>\n",
       "      <td>Damasco_Tempio di Giove_01</td>\n",
       "      <td>2006</td>\n",
       "      <td>Damasco</td>\n",
       "      <td>Tempio di Giove</td>\n",
       "      <td>Rovine del tempio di Giove all'ingresso del Su...</td>\n",
       "      <td>GAR_Ilario Di Nardo</td>\n",
       "      <td>Damasco_Tempio di Giove_01</td>\n",
       "      <td>2006</td>\n",
       "      <td>Damascus</td>\n",
       "      <td>Ruins of Jupiter Temple at the entrance of Suq...</td>\n",
       "      <td>Rovine del tempio di Giove all'ingresso del Su...</td>\n",
       "      <td>GAR_Ilario Di Nardo</td>\n",
       "      <td>Temple of Jupiter (Damascus)</td>\n",
       "    </tr>\n",
       "    <tr>\n",
       "      <th>4</th>\n",
       "      <td>Dura Europos_Panorama_01</td>\n",
       "      <td>2006</td>\n",
       "      <td>Dura Europos</td>\n",
       "      <td>Panorama</td>\n",
       "      <td>NaN</td>\n",
       "      <td>GAR_Ilario Di Nardo</td>\n",
       "      <td>Dura Europos_Panorama_01</td>\n",
       "      <td>2006</td>\n",
       "      <td>Dura Europos</td>\n",
       "      <td>General view</td>\n",
       "      <td>NaN</td>\n",
       "      <td>GAR_Ilario Di Nardo</td>\n",
       "      <td>Dura Europos</td>\n",
       "    </tr>\n",
       "  </tbody>\n",
       "</table>\n",
       "</div>"
      ],
      "text/plain": [
       "                    Nome_foto  Anno         Luogo     Nome_monumento  \\\n",
       "0        Aleppo_Cittadella_01  2006        Aleppo         Cittadella   \n",
       "1           Amrit_Sepolcro_01  2006         Amrit  Meghazil Sepolcro   \n",
       "2      Bosra_Teatro Romano_01  2006         Bosra      Teatro Romano   \n",
       "3  Damasco_Tempio di Giove_01  2006       Damasco    Tempio di Giove   \n",
       "4    Dura Europos_Panorama_01  2006  Dura Europos           Panorama   \n",
       "\n",
       "                                         Descrizione          Nome_autore  \\\n",
       "0                                  Porta di ingresso  GAR_Ilario Di Nardo   \n",
       "1                                                NaN  GAR_Ilario Di Nardo   \n",
       "2  Bosra è un'antica città nel sud della Siria, p...  GAR_Ilario Di Nardo   \n",
       "3  Rovine del tempio di Giove all'ingresso del Su...  GAR_Ilario Di Nardo   \n",
       "4                                                NaN  GAR_Ilario Di Nardo   \n",
       "\n",
       "                        Title  Year         Place  \\\n",
       "0        Aleppo_Cittadella_01  2006        Aleppo   \n",
       "1           Amrit_Sepolcro_01  2006         Amrit   \n",
       "2      Bosra_Teatro Romano_01  2006         Bosra   \n",
       "3  Damasco_Tempio di Giove_01  2006      Damascus   \n",
       "4    Dura Europos_Panorama_01  2006  Dura Europos   \n",
       "\n",
       "                                             Subject  \\\n",
       "0                                            Citadel   \n",
       "1                                      Meghazil tomb   \n",
       "2                                      Roman theater   \n",
       "3  Ruins of Jupiter Temple at the entrance of Suq...   \n",
       "4                                       General view   \n",
       "\n",
       "                                         Description               Author  \\\n",
       "0                                  Porta di ingresso  GAR_Ilario Di Nardo   \n",
       "1                                                NaN  GAR_Ilario Di Nardo   \n",
       "2  Bosra è un'antica città nel sud della Siria, p...  GAR_Ilario Di Nardo   \n",
       "3  Rovine del tempio di Giove all'ingresso del Su...  GAR_Ilario Di Nardo   \n",
       "4                                                NaN  GAR_Ilario Di Nardo   \n",
       "\n",
       "                   Commons_category  \n",
       "0  Exterior views of Aleppo citadel  \n",
       "1                             Amrit  \n",
       "2     Ancient Roman theatre (Bosra)  \n",
       "3      Temple of Jupiter (Damascus)  \n",
       "4                      Dura Europos  "
      ]
     },
     "execution_count": 78,
     "metadata": {},
     "output_type": "execute_result"
    }
   ],
   "source": [
    "merged = pd.concat([metadata_it,metadata_en], axis=1) \n",
    "merged.head()"
   ]
  },
  {
   "cell_type": "markdown",
   "metadata": {
    "nbpresent": {
     "id": "1b0e9f77-27b9-403e-b72f-180298de7462"
    },
    "slideshow": {
     "slide_type": "slide"
    }
   },
   "source": [
    "# Keyword mappings\n",
    "\n",
    "Manual mappings of places, people and keywords for categories. They are published as wikitables and can be found here:\n",
    "\n",
    "https://commons.wikimedia.org/w/index.php?title=Special%3APrefixIndex&prefix=Gruppo+Archeologico+Romano%2FBatch+upload%2F&namespace=4"
   ]
  },
  {
   "cell_type": "markdown",
   "metadata": {
    "nbpresent": {
     "id": "ed7214d6-c3c4-4e94-885b-af3fe0700199"
    },
    "slideshow": {
     "slide_type": "fragment"
    }
   },
   "source": [
    "## Places (Luogo)\n",
    "\n",
    "We have two different mappings of places, one general based on the column \"Place (Luogo)\" in the original metadata file and one more specific which is a combination of the columns \"Place (Luogo)\" and \"Subject (Nome_monumento)\". \n",
    "\n",
    "The mapping can be found here:\n",
    "\n",
    "https://commons.wikimedia.org/wiki/Commons:Gruppo_Archeologico_Romano/Batch_upload/places"
   ]
  },
  {
   "cell_type": "code",
   "execution_count": 79,
   "metadata": {
    "collapsed": false,
    "nbpresent": {
     "id": "b17ac894-1eea-41f8-859a-a0e4974a5af8"
    },
    "slideshow": {
     "slide_type": "subslide"
    }
   },
   "outputs": [],
   "source": [
    "place_mappings_url = \"https://commons.wikimedia.org/wiki/Commons:Gruppo_Archeologico_Romano/Batch_upload/places\"\n",
    "place_mappings = pd.read_html(place_mappings_url, attrs = {\"class\":\"wikitable\"}, header=0)\n",
    "# print(len(place_mappings))\n",
    "place_mappings_general = place_mappings[0]\n",
    "# Strip away potential surrounding whitespace\n",
    "place_mappings_general[\"Luogo\"] = place_mappings_general.Luogo.str.strip() \n",
    "place_mappings_general[\"wikidata\"] = place_mappings_general.wikidata.str.strip()\n",
    "place_mappings_general[\"category\"] = place_mappings_general.category.str.strip() \n",
    "\n",
    "place_mappings_general = place_mappings_general.set_index(\"Luogo\")\n",
    "\n",
    "place_mappings_specific = place_mappings[1]\n",
    "# Strip away potential surrounding whitespace\n",
    "place_mappings_specific[\"Luogo\"] = place_mappings_specific.Luogo.str.strip() \n",
    "place_mappings_specific[\"Nome_monumento\"] = place_mappings_specific.Nome_monumento.str.strip()\n",
    "place_mappings_specific[\"category\"] = place_mappings_specific.category.str.strip()\n",
    "place_mappings_specific[\"wikidata\"] = place_mappings_specific.wikidata.str.strip()\n",
    "\n",
    "place_mappings_specific[\"Specific_place\"] = place_mappings_specific.Luogo + \" \" + place_mappings_specific.Nome_monumento\n",
    "place_mappings_specific = place_mappings_specific[[\"Specific_place\" ,\"Luogo\",\"Nome_monumento\",\"category\",\"wikidata\"]]\n",
    "place_mappings_specific = place_mappings_specific.set_index(\"Specific_place\")"
   ]
  },
  {
   "cell_type": "code",
   "execution_count": 80,
   "metadata": {
    "collapsed": false
   },
   "outputs": [
    {
     "data": {
      "text/plain": [
       "Luogo\n",
       "Aleppo                                                        Category:Aleppo\n",
       "Palmira                                                      Category:Palmyra\n",
       "Palmyra                                                      Category:Palmyra\n",
       "Apamea                                                        Category:Apamea\n",
       "Hama                                                            Category:Hama\n",
       "Dura Europos                                            Category:Dura Europos\n",
       "Bosra                                                          Category:Bosra\n",
       "Jebl Zawiya                                                                 -\n",
       "Castello del Saladino                            Category:Qal'at_Salah_ed-Din\n",
       "Sergiopolis                                                   Category:Resafa\n",
       "Yabroud                                              Category:Cities in Syria\n",
       "Ebla                                                            Category:Ebla\n",
       "Qasr al-Hayr al-Sharqi                              Category:Castles in Syria\n",
       "Burji Hadar                                                                 -\n",
       "Serjilla                                                    Category:Serjilla\n",
       "Tartus                                                        Category:Tartus\n",
       "Mari                                                            Category:Mari\n",
       "Burjikeh                                                                    -\n",
       "Al Quanawat                                                  Category:Qanawat\n",
       "Halabiyah                                                  Category:Halabiyeh\n",
       "Damasco                                                     Category:Damascus\n",
       "Darkita                                                                     -\n",
       "Ugarit                                                        Category:Ugarit\n",
       "Tell Barry                                                Category:Tell Barri\n",
       "Qalb Lauzeh                                                                 -\n",
       "Deir Mar Musa                                          Category:Deir Mar Musa\n",
       "Krak dei Cavalieri                               Category:Krak des Chevaliers\n",
       "Jable                                                         Category:Jableh\n",
       "Kanatha Al Qanawat                                           Category:Qanawat\n",
       "Atil                                                                        -\n",
       "Ezraa                                                           Category:Izra\n",
       "Maalula                                                     Category:Maaloula\n",
       "Amrit                                                          Category:Amrit\n",
       "Philippopolis                                                 Category:Shahba\n",
       "Latakia (Laodicea)                                           Category:Latakia\n",
       "Cyrrus                                                       Category:Cyrrhus\n",
       "Krak des Chevaliers                              Category:Krak des Chevaliers\n",
       "Darkita Monaster                                                            -\n",
       "Seidnaya                                             Category:Cities in Syria\n",
       "Latakia                                                      Category:Latakia\n",
       "Maarat An Numan             Category:Populated places in Maarrat al-Nu'man...\n",
       "Qala't al Hosn                                                              -\n",
       "Dana nord                         Category:Populated places in Harem District\n",
       "San Simeone                                       Category:Aleppo countryside\n",
       "Fafirtin                                                                    -\n",
       "Casr al Banat                                                               -\n",
       "Tell Barri                                                Category:Tell Barri\n",
       "Dana sud                          Category:Populated places in Harem District\n",
       "Halabiya                                                   Category:Halabiyeh\n",
       "Banyas                                                       Category:Baniyas\n",
       "Chalcis ad Belum                                                            -\n",
       "Deir ez Zor                                             Category:Dayr az-Zawr\n",
       "Imprecisato                                                                 -\n",
       "Tell Mardik (Ebla)                                              Category:Ebla\n",
       "Mushennef                    Category:Populated places in as-Suwayda District\n",
       "Maaloula                                                    Category:Maaloula\n",
       "Sergiopolis (Al Rassafa)                                      Category:Resafa\n",
       "Es Sanamein                                                                 -\n",
       "Qalat Siman                                                   Category:Aleppo\n",
       "Name: category, dtype: object"
      ]
     },
     "execution_count": 80,
     "metadata": {},
     "output_type": "execute_result"
    }
   ],
   "source": [
    "place_mappings_general.category.str.strip() "
   ]
  },
  {
   "cell_type": "code",
   "execution_count": 81,
   "metadata": {
    "collapsed": false,
    "nbpresent": {
     "id": "2954be0c-0f18-4e9f-8a13-94de750b4714"
    },
    "slideshow": {
     "slide_type": "fragment"
    }
   },
   "outputs": [
    {
     "name": "stdout",
     "output_type": "stream",
     "text": [
      "                       frequency                      category   wikidata\n",
      "Luogo                                                                    \n",
      "Aleppo                        75               Category:Aleppo   d:Q41183\n",
      "Palmira                       44              Category:Palmyra    d:Q5747\n",
      "Palmyra                       40              Category:Palmyra    d:Q5747\n",
      "Apamea                        31               Category:Apamea  d:Q617550\n",
      "Hama                          23                 Category:Hama  d:Q173545\n",
      "Dura Europos                  17         Category:Dura Europos  d:Q464266\n",
      "Bosra                         11                Category:Bosra  d:Q272680\n",
      "Jebl Zawiya                   11                             -          -\n",
      "Castello del Saladino          9  Category:Qal'at_Salah_ed-Din          -\n",
      "Sergiopolis                    8               Category:Resafa  d:Q631407\n"
     ]
    }
   ],
   "source": [
    "print(place_mappings_general.head(10))"
   ]
  },
  {
   "cell_type": "code",
   "execution_count": 82,
   "metadata": {
    "collapsed": false,
    "nbpresent": {
     "id": "c6f32ee1-efec-4c5d-97a3-70bfec031060"
    },
    "slideshow": {
     "slide_type": "fragment"
    }
   },
   "outputs": [
    {
     "name": "stdout",
     "output_type": "stream",
     "text": [
      "                                                           Luogo  \\\n",
      "Specific_place                                                     \n",
      "Aleppo Cittadella                                         Aleppo   \n",
      "Palmira Tempio di Baal                                   Palmira   \n",
      "Aleppo Suq                                                Aleppo   \n",
      "Qasr al-Hayr al-Sharqi Palazzo Omayyade   Qasr al-Hayr al-Sharqi   \n",
      "Yabroud Necropoli di Yabroud                             Yabroud   \n",
      "Sergiopolis Cattedrale bizantina                     Sergiopolis   \n",
      "Halabiyah Fortezza                                     Halabiyah   \n",
      "Apamea Tra i bambini del villaggio arabo                  Apamea   \n",
      "Mari Palazzo di Zimri-Lin                                   Mari   \n",
      "Palmyra Interno dell'Ipogeo di Artaban                   Palmyra   \n",
      "\n",
      "                                                             Nome_monumento  \\\n",
      "Specific_place                                                                \n",
      "Aleppo Cittadella                                                Cittadella   \n",
      "Palmira Tempio di Baal                                       Tempio di Baal   \n",
      "Aleppo Suq                                                              Suq   \n",
      "Qasr al-Hayr al-Sharqi Palazzo Omayyade                    Palazzo Omayyade   \n",
      "Yabroud Necropoli di Yabroud                           Necropoli di Yabroud   \n",
      "Sergiopolis Cattedrale bizantina                       Cattedrale bizantina   \n",
      "Halabiyah Fortezza                                                 Fortezza   \n",
      "Apamea Tra i bambini del villaggio arabo  Tra i bambini del villaggio arabo   \n",
      "Mari Palazzo di Zimri-Lin                              Palazzo di Zimri-Lin   \n",
      "Palmyra Interno dell'Ipogeo di Artaban       Interno dell'Ipogeo di Artaban   \n",
      "\n",
      "                                                                    category  \\\n",
      "Specific_place                                                                 \n",
      "Aleppo Cittadella                                    Category:Aleppo citadel   \n",
      "Palmira Tempio di Baal                    Category:Temple of Baal in Palmyra   \n",
      "Aleppo Suq                                 Category:Suqs and Khans in Aleppo   \n",
      "Qasr al-Hayr al-Sharqi Palazzo Omayyade      Category:Qasr al-Heir al-Sharqi   \n",
      "Yabroud Necropoli di Yabroud                                               -   \n",
      "Sergiopolis Cattedrale bizantina                                           -   \n",
      "Halabiyah Fortezza                                                         -   \n",
      "Apamea Tra i bambini del villaggio arabo                                   -   \n",
      "Mari Palazzo di Zimri-Lin                       Category:Palace of Zimri-Lim   \n",
      "Palmyra Interno dell'Ipogeo di Artaban             Category:Tombs in Palmyra   \n",
      "\n",
      "                                            wikidata  \n",
      "Specific_place                                        \n",
      "Aleppo Cittadella                          d:Q206231  \n",
      "Palmira Tempio di Baal                     d:Q797481  \n",
      "Aleppo Suq                                         -  \n",
      "Qasr al-Hayr al-Sharqi Palazzo Omayyade   d:Q1149473  \n",
      "Yabroud Necropoli di Yabroud                       -  \n",
      "Sergiopolis Cattedrale bizantina                   -  \n",
      "Halabiyah Fortezza                                 -  \n",
      "Apamea Tra i bambini del villaggio arabo           -  \n",
      "Mari Palazzo di Zimri-Lin                 d:Q1887409  \n",
      "Palmyra Interno dell'Ipogeo di Artaban             -  \n"
     ]
    }
   ],
   "source": [
    "print(place_mappings_specific.head(10))"
   ]
  },
  {
   "cell_type": "markdown",
   "metadata": {
    "nbpresent": {
     "id": "d31e315c-98a0-46c7-a7b5-01bc7c48b6cd"
    },
    "slideshow": {
     "slide_type": "slide"
    }
   },
   "source": [
    "# Population of the Photograph template\n",
    "\n",
    "## Template mapping"
   ]
  },
  {
   "cell_type": "markdown",
   "metadata": {
    "slideshow": {
     "slide_type": "fragment"
    }
   },
   "source": [
    " The master template mapping lives as [a task on Phabricator](https://phabricator.wikimedia.org/T139724)"
   ]
  },
  {
   "cell_type": "markdown",
   "metadata": {},
   "source": [
    "## Collect original filenames"
   ]
  },
  {
   "cell_type": "code",
   "execution_count": 45,
   "metadata": {
    "collapsed": false
   },
   "outputs": [
    {
     "name": "stdout",
     "output_type": "stream",
     "text": [
      "Subdirs: 11\n",
      "len(original_filenames): 419\n",
      "Files in metadata file: 426\n"
     ]
    }
   ],
   "source": [
    "sub_dirs = []\n",
    "original_filenames = []\n",
    "\n",
    "root_dir = \"/Users/mos/GAR pictures for WMSE/\"\n",
    "for root, dirs, files in os.walk(\"/Users/mos/GAR pictures for WMSE/\"):\n",
    "    sub_dirs.extend(dirs)\n",
    "for dir in sub_dirs:\n",
    "    for root, dirs, files in os.walk(root_dir + dir):\n",
    "        for file in files:\n",
    "            if file.endswith(\".JPG\") or file.endswith(\".jpg\"):\n",
    "                original_filenames.append(file)\n",
    "print(\"Subdirs: {}\\nlen(original_filenames): {}\\nFiles in metadata file: 426\".format(len(sub_dirs), len(original_filenames)))"
   ]
  },
  {
   "cell_type": "markdown",
   "metadata": {
    "nbpresent": {
     "id": "a06f0517-6e82-46bd-8a1b-ba449f753988"
    },
    "slideshow": {
     "slide_type": "subslide"
    }
   },
   "source": [
    "## Create wikitext for image pages\n",
    "Available as .py script on [my github](https://github.com/mattiasostmar/GAR_Syria_2016-06/blob/master/create_metatdata_textfiles.py)"
   ]
  },
  {
   "cell_type": "code",
   "execution_count": 88,
   "metadata": {
    "collapsed": false,
    "nbpresent": {
     "id": "9a74f27c-f47c-42df-af6d-eb91255d342e"
    },
    "slideshow": {
     "slide_type": "fragment"
    }
   },
   "outputs": [
    {
     "name": "stdout",
     "output_type": "stream",
     "text": [
      "Warning! Empty Author column in row no 218 photo Aleppo_suq_04\n",
      "Warning! Empty Author column in row no 219 photo Aleppo_suq_05\n",
      "Warning! Empty Author column in row no 220 photo Aleppo_suq_06\n",
      "Warning! Empty Author column in row no 221 photo Aleppo_suq_07\n",
      "Stats: \n",
      "Total images 426\n",
      "OK images 422\n",
      "Uncategorized images 0\n",
      "Images missing author 4\n"
     ]
    }
   ],
   "source": [
    "# remove possible diuplicate files with other extension names\n",
    "!rm -rf ./photograph_template_texts/*\n",
    "\n",
    "total_images = 0\n",
    "OK_images = 0\n",
    "uncategorized_images = 0\n",
    "faulty_images = 0\n",
    "\n",
    "for row_no, row in merged.iterrows():\n",
    "    total_images += 1\n",
    "    \n",
    "    template_parts = []\n",
    "    \n",
    "    header = \"{{Photograph\"\n",
    "    template_parts.append(header)\n",
    "    \n",
    "    if not pd.isnull(row[\"Author\"]): \n",
    "        photographer = \"|photographer = \" + row[\"Author\"][4:]\n",
    "    else:\n",
    "        print(\"Warning! Empty Author column in row no {} photo {}\".format(row_no, row[\"Nome_foto\"]))\n",
    "        photographer = \"|photographer = \"\n",
    "        faulty_images += 1\n",
    "    template_parts.append(photographer)\n",
    "    \n",
    "    title_it =  \"{{it|'''\" + regex.sub(\"_\",\" \",row[\"Nome_foto\"][:-3]) + \"'''}}\"\n",
    "    title_en = \"{{en|\" + regex.sub(\"_\",\" \", row[\"Title\"][:-3]) + \"}}\"\n",
    "    title = \"|title = \" + title_it + \"\\n\" + title_en\n",
    "    template_parts.append(title)\n",
    "    \n",
    "    if pd.notnull(row[\"Description\"]):\n",
    "        description_en = \"{{en| \" + row[\"Description\"] + \"}}\"\n",
    "    else:\n",
    "        description_en = \"{{en| \" + str(row[\"Subject\"]) + \", \" + str(row[\"Place\"]) + \" in \" + str(row[\"Year\"]) + \"}}\"\n",
    "    \n",
    "    if pd.notnull(row[\"Descrizione\"]):\n",
    "        description_it = \"{{it| \" + row[\"Descrizione\"] + \"}}\"\n",
    "    else:\n",
    "        description_it = \"{{it| \" + str(row[\"Nome_monumento\"]) + \", \" + str(row[\"Luogo\"]) + \", \" + str(row[\"Anno\"]) + \"}}\"\n",
    "    \n",
    "    description = \"|description = \" + description_it + \"\\n\" + description_en\n",
    "    template_parts.append(description)\n",
    "    \n",
    "    depicted_people = \"|depicted people =\"\n",
    "    template_parts.append(depicted_people)\n",
    "    \n",
    "    if pd.notnull(place_mappings_specific.loc[row[\"Luogo\"] + \" \" + row[\"Nome_monumento\"]][\"wikidata\"]) \\\n",
    "    or place_mappings_specific.loc[row[\"Luogo\"] + \" \" + row[\"Nome_monumento\"]][\"wikidata\"] == \"-\":\n",
    "        depicted_place = \"|depicted place = {{city|\" + \\\n",
    "        place_mappings_specific.loc[row[\"Luogo\"] + \" \" + row[\"Nome_monumento\"]][\"wikidata\"] + \"}}\"\n",
    "        #print(depicted_place)\n",
    "    elif pd.notnull(place_mappings_general.loc[row[\"Luogo\"]][\"wikidata\"]) \\\n",
    "    or place_mappings_general.loc[row[\"Luogo\"]][\"wikidata\"] == \"-\":\n",
    "        depicted_place = \"|depicted place = {{city|\" + \\\n",
    "        place_mappings_general.loc[row[\"Luogo\"]][\"wikidata\"] + \"}}\"\n",
    "        #print(depicted_place)\n",
    "    else:\n",
    "        depicted_place = \"|depicted place = \" + row[\"Luogo\"] + \" \" + row[\"Nome_monumento\"]\n",
    "        #print(depicted_place)\n",
    "    template_parts.append(depicted_place)\n",
    "    \n",
    "    if pd.notnull(row[\"Year\"]):\n",
    "        date = \"|date = \" + str(row[\"Year\"])\n",
    "    else:\n",
    "        date = \"|date = \"\n",
    "    template_parts.append(date)\n",
    "        \n",
    "    medium = \"|medium =\" \n",
    "    template_parts.append(medium)\n",
    "    \n",
    "    dimensions = \"|dimensions =\"\n",
    "    template_parts.append(dimensions)\n",
    "    \n",
    "    institution = \"|institution = {{Institution:Gruppo Archeologico Romano}}\"\n",
    "    template_parts.append(institution)\n",
    "    \n",
    "    department = \"|department =\"\n",
    "    template_parts.append(department)\n",
    "    \n",
    "    references = \"|references =\"\n",
    "    template_parts.append(references)\n",
    "    \n",
    "    object_history = \"|object history =\"\n",
    "    template_parts.append(object_history)\n",
    "    \n",
    "    exhibition_history = \"|exhibition history =\"\n",
    "    template_parts.append(exhibition_history)\n",
    "    \n",
    "    credit_line = \"|credit line =\"\n",
    "    template_parts.append(credit_line)\n",
    "    \n",
    "    inscriptions = \"|inscriptions =\"\n",
    "    template_parts.append(inscriptions)\n",
    "    \n",
    "    notes = \"|notes =\"\n",
    "    template_parts.append(notes)\n",
    "    \n",
    "    accession_number = \"|accession number =\"\n",
    "    template_parts.append(accession_number)\n",
    "    \n",
    "    source = \"|source = \" + row[\"Nome_foto\"] + \"\\n{{Gruppo Archeologico Romano cooperation project|COH}}\"\n",
    "    template_parts.append(source)\n",
    "    \n",
    "    if pd.notnull(row[\"Author\"]):\n",
    "        permission = \"|permission = {{CC-BY-SA-4.0|\" + row[\"Author\"][4:] + \"/ GAR}}\\n{{PermissionOTRS|id=2016042410005958}}\"\n",
    "    else:\n",
    "        permission = \"|permission = {{CC-BY-SA-4.0|Gruppo Archeologico Romano}}\\n{{PermissionOTRS|id=2016042410005958}}\"\n",
    "    template_parts.append(permission)\n",
    "    \n",
    "    other_versions = \"|other_versions =\"\n",
    "    template_parts.append(other_versions)\n",
    "    \n",
    "    template_parts.append(\"}}\")\n",
    "    \n",
    "    \n",
    "    categories_list = []\n",
    "    # [[Category:<Category from Specific Place> AND/OR <Category from Luogo (place)>]] \n",
    "    specific_place_category = None\n",
    "    general_place_category = None\n",
    "    maintanence_category = None\n",
    "    batchupload_category = \"[[Category:Images_from_GAR_2016-06]]\"\n",
    "    \n",
    "    if pd.notnull(place_mappings_specific.loc[row[\"Luogo\"] + \" \" + row[\"Nome_monumento\"]][\"category\"]):\n",
    "        specific_place_category = \"[[\" + place_mappings_specific.loc[row[\"Luogo\"] + \" \" + row[\"Nome_monumento\"]][\"category\"] + \"]]\"\n",
    "        #print(specific_place_category)\n",
    "    \n",
    "    elif pd.notnull(place_mappings_general.loc[row[\"Luogo\"]][\"category\"]):\n",
    "        general_place_category = \"[[\" + place_mappings_general.loc[row[\"Luogo\"]][\"category\"] + \"]]\"\n",
    "        #print(general_place_category)\n",
    "    \n",
    "    # [[Category:Images_from_GAR_Syria_2016-06]]\n",
    "    else:\n",
    "        maintanence_category = \"[[Category:Images_from_GAR_without_categories]]\"\n",
    "        uncategorized_images += 1\n",
    "    \n",
    "    # manage content categories\n",
    "    if specific_place_category and not specific_place_category == \"-\":\n",
    "        categories_list.append(specific_place_category)\n",
    "        OK_images += 1\n",
    "    elif general_place_category and not specific_place_category and not general_place_category == \"-\":\n",
    "        categories_list.append(general_place_category)\n",
    "        OK_images += 1 \n",
    "    else:\n",
    "        categories_list.append(maintanence_category)\n",
    "\n",
    "    categories_list.append(batchupload_category)\n",
    "        \n",
    "    #print(categories_list)\n",
    "    \n",
    "    # Filename: <Nome_foto[:-3]>_GAR_<Nome_foto[-3:]>.<ext>\n",
    "    outpath = \"./photograph_template_texts/\"\n",
    "    fname = row[\"Nome_foto\"][:-3] + \" - \" + \"GAR\" + \" - \" + row[\"Nome_foto\"][-3:] + \".JPG\" # Hack, extension ought to be dynamic\n",
    "    \n",
    "    \n",
    "    if not os.path.exists(outpath):\n",
    "        os.mkdir(outpath)\n",
    "        outfile = open(outpath + fname, \"w\")\n",
    "        outfile.write(\"\\n\".join(template_parts) + \"\\n\" + \"\\n\".join(categories_list))\n",
    "    else:\n",
    "        outfile = open(outpath + fname, \"w\")\n",
    "        outfile.write(\"\\n\".join(template_parts) + \"\\n\" + \"\\n\".join(categories_list))\n",
    "    \n",
    "print(\"Stats: \\nTotal images {}\\nOK images {}\\nUncategorized images {}\\nImages missing author {}\".format(total_images, OK_images - faulty_images, uncategorized_images, faulty_images ))"
   ]
  },
  {
   "cell_type": "code",
   "execution_count": 21,
   "metadata": {
    "collapsed": false
   },
   "outputs": [
    {
     "name": "stdout",
     "output_type": "stream",
     "text": [
      "total 3304\r\n",
      "drwxr-xr-x@ 416 mos  staff  14144 12 Jul 14:47 .\r\n",
      "drwxr-xr-x@  17 mos  staff    578 18 Jul 10:40 ..\r\n",
      "-rw-r--r--@   1 mos  staff    762 18 Jul 10:41 APAMEA Acropoli con villaggio arabo _GAR_014\r\n",
      "-rw-r--r--@   1 mos  staff    794 18 Jul 10:41 APAMEA Case e botteghe lungo la Via colonnata _GAR_052\r\n",
      "-rw-r--r--@   1 mos  staff    794 18 Jul 10:41 APAMEA Case e botteghe lungo la Via colonnata _GAR_053\r\n",
      "-rw-r--r--@   1 mos  staff    898 18 Jul 10:41 APAMEA Il Tetraconco _GAR_009\r\n",
      "-rw-r--r--@   1 mos  staff    742 18 Jul 10:41 APAMEA Ingresso di un'abitazione _GAR_013\r\n",
      "-rw-r--r--@   1 mos  staff    798 18 Jul 10:41 APAMEA Museo - Capitello a cestello bizantino _GAR_041\r\n",
      "-rw-r--r--@   1 mos  staff    706 18 Jul 10:41 APAMEA Museo - Cortile _GAR_031\r\n"
     ]
    }
   ],
   "source": [
    "!ls -la ./photograph_template_texts/ | head -n10"
   ]
  },
  {
   "cell_type": "markdown",
   "metadata": {},
   "source": [
    "## Tests"
   ]
  },
  {
   "cell_type": "code",
   "execution_count": null,
   "metadata": {
    "collapsed": true
   },
   "outputs": [],
   "source": [
    "depicted_place = \"|depicted place = {{city|\" + place_mappings_specific.loc[row[\"Luogo\"]][\"wikidata\"] + \"}}\""
   ]
  },
  {
   "cell_type": "code",
   "execution_count": 15,
   "metadata": {
    "collapsed": false
   },
   "outputs": [
    {
     "data": {
      "text/html": [
       "<div>\n",
       "<table border=\"1\" class=\"dataframe\">\n",
       "  <thead>\n",
       "    <tr style=\"text-align: right;\">\n",
       "      <th></th>\n",
       "      <th>Luogo</th>\n",
       "      <th>Nome monumento</th>\n",
       "      <th>category</th>\n",
       "      <th>wikidata</th>\n",
       "    </tr>\n",
       "    <tr>\n",
       "      <th>Specific place</th>\n",
       "      <th></th>\n",
       "      <th></th>\n",
       "      <th></th>\n",
       "      <th></th>\n",
       "    </tr>\n",
       "  </thead>\n",
       "  <tbody>\n",
       "    <tr>\n",
       "      <th>Aleppo Cittadella</th>\n",
       "      <td>Aleppo</td>\n",
       "      <td>Cittadella</td>\n",
       "      <td>Category:Aleppo citadel</td>\n",
       "      <td>d:Q206231</td>\n",
       "    </tr>\n",
       "    <tr>\n",
       "      <th>Palmira Tempio di Baal</th>\n",
       "      <td>Palmira</td>\n",
       "      <td>Tempio di Baal</td>\n",
       "      <td>Category:Temple of Baal in Palmyra</td>\n",
       "      <td>d:Q797481</td>\n",
       "    </tr>\n",
       "    <tr>\n",
       "      <th>Aleppo Suq</th>\n",
       "      <td>Aleppo</td>\n",
       "      <td>Suq</td>\n",
       "      <td>Category:Aleppo</td>\n",
       "      <td>NaN</td>\n",
       "    </tr>\n",
       "    <tr>\n",
       "      <th>Qasr al-Hayr al-Sharqi Palazzo Omayyade</th>\n",
       "      <td>Qasr al-Hayr al-Sharqi</td>\n",
       "      <td>Palazzo Omayyade</td>\n",
       "      <td>NaN</td>\n",
       "      <td>NaN</td>\n",
       "    </tr>\n",
       "    <tr>\n",
       "      <th>Yabroud Necropoli di Yabroud</th>\n",
       "      <td>Yabroud</td>\n",
       "      <td>Necropoli di Yabroud</td>\n",
       "      <td>NaN</td>\n",
       "      <td>NaN</td>\n",
       "    </tr>\n",
       "    <tr>\n",
       "      <th>Sergiopolis Cattedrale bizantina</th>\n",
       "      <td>Sergiopolis</td>\n",
       "      <td>Cattedrale bizantina</td>\n",
       "      <td>NaN</td>\n",
       "      <td>NaN</td>\n",
       "    </tr>\n",
       "    <tr>\n",
       "      <th>Halabiyah Fortezza</th>\n",
       "      <td>Halabiyah</td>\n",
       "      <td>Fortezza</td>\n",
       "      <td>NaN</td>\n",
       "      <td>NaN</td>\n",
       "    </tr>\n",
       "    <tr>\n",
       "      <th>Apamea Tra i bambini del villaggio arabo</th>\n",
       "      <td>Apamea</td>\n",
       "      <td>Tra i bambini del villaggio arabo</td>\n",
       "      <td>NaN</td>\n",
       "      <td>NaN</td>\n",
       "    </tr>\n",
       "    <tr>\n",
       "      <th>Mari Palazzo di Zimri-Lin</th>\n",
       "      <td>Mari</td>\n",
       "      <td>Palazzo di Zimri-Lin</td>\n",
       "      <td>NaN</td>\n",
       "      <td>NaN</td>\n",
       "    </tr>\n",
       "    <tr>\n",
       "      <th>Palmyra Interno dell'Ipogeo di Artaban</th>\n",
       "      <td>Palmyra</td>\n",
       "      <td>Interno dell'Ipogeo di Artaban</td>\n",
       "      <td>NaN</td>\n",
       "      <td>NaN</td>\n",
       "    </tr>\n",
       "    <tr>\n",
       "      <th>Hama Centro Storico di Hama - particolare</th>\n",
       "      <td>Hama</td>\n",
       "      <td>Centro Storico di Hama - particolare</td>\n",
       "      <td>NaN</td>\n",
       "      <td>NaN</td>\n",
       "    </tr>\n",
       "    <tr>\n",
       "      <th>Burjikeh rovine bizantine</th>\n",
       "      <td>Burjikeh</td>\n",
       "      <td>rovine bizantine</td>\n",
       "      <td>NaN</td>\n",
       "      <td>NaN</td>\n",
       "    </tr>\n",
       "    <tr>\n",
       "      <th>Darkita rovine bizantine</th>\n",
       "      <td>Darkita</td>\n",
       "      <td>rovine bizantine</td>\n",
       "      <td>NaN</td>\n",
       "      <td>NaN</td>\n",
       "    </tr>\n",
       "    <tr>\n",
       "      <th>Hama Noria</th>\n",
       "      <td>Hama</td>\n",
       "      <td>Noria</td>\n",
       "      <td>NaN</td>\n",
       "      <td>NaN</td>\n",
       "    </tr>\n",
       "    <tr>\n",
       "      <th>Palmyra Interno di una tomba a torre</th>\n",
       "      <td>Palmyra</td>\n",
       "      <td>Interno di una tomba a torre</td>\n",
       "      <td>NaN</td>\n",
       "      <td>NaN</td>\n",
       "    </tr>\n",
       "    <tr>\n",
       "      <th>Tell Barry scavi</th>\n",
       "      <td>Tell Barry</td>\n",
       "      <td>scavi</td>\n",
       "      <td>NaN</td>\n",
       "      <td>NaN</td>\n",
       "    </tr>\n",
       "    <tr>\n",
       "      <th>Tartus Resti del centro medievale</th>\n",
       "      <td>Tartus</td>\n",
       "      <td>Resti del centro medievale</td>\n",
       "      <td>NaN</td>\n",
       "      <td>NaN</td>\n",
       "    </tr>\n",
       "    <tr>\n",
       "      <th>Jebl Zawiya Torre posizionata accanto a una grande villa</th>\n",
       "      <td>Jebl Zawiya</td>\n",
       "      <td>Torre posizionata accanto a una grande villa</td>\n",
       "      <td>NaN</td>\n",
       "      <td>NaN</td>\n",
       "    </tr>\n",
       "    <tr>\n",
       "      <th>Aleppo Quartieri di Aleppo</th>\n",
       "      <td>Aleppo</td>\n",
       "      <td>Quartieri di Aleppo</td>\n",
       "      <td>NaN</td>\n",
       "      <td>NaN</td>\n",
       "    </tr>\n",
       "    <tr>\n",
       "      <th>Al Quanawat Caseggiato romano</th>\n",
       "      <td>Al Quanawat</td>\n",
       "      <td>Caseggiato romano</td>\n",
       "      <td>NaN</td>\n",
       "      <td>NaN</td>\n",
       "    </tr>\n",
       "    <tr>\n",
       "      <th>Apamea Particolare delle sale espositive del Museo</th>\n",
       "      <td>Apamea</td>\n",
       "      <td>Particolare delle sale espositive del Museo</td>\n",
       "      <td>NaN</td>\n",
       "      <td>NaN</td>\n",
       "    </tr>\n",
       "    <tr>\n",
       "      <th>Apamea Via colonnata</th>\n",
       "      <td>Apamea</td>\n",
       "      <td>Via colonnata</td>\n",
       "      <td>NaN</td>\n",
       "      <td>NaN</td>\n",
       "    </tr>\n",
       "    <tr>\n",
       "      <th>Cyrrus Teatro romano</th>\n",
       "      <td>Cyrrus</td>\n",
       "      <td>Teatro romano</td>\n",
       "      <td>NaN</td>\n",
       "      <td>NaN</td>\n",
       "    </tr>\n",
       "    <tr>\n",
       "      <th>Palmyra Arco di Trionfo</th>\n",
       "      <td>Palmyra</td>\n",
       "      <td>Arco di Trionfo</td>\n",
       "      <td>NaN</td>\n",
       "      <td>NaN</td>\n",
       "    </tr>\n",
       "    <tr>\n",
       "      <th>Aleppo Museo</th>\n",
       "      <td>Aleppo</td>\n",
       "      <td>Museo</td>\n",
       "      <td>NaN</td>\n",
       "      <td>NaN</td>\n",
       "    </tr>\n",
       "    <tr>\n",
       "      <th>Aleppo Moschea Omayyadi</th>\n",
       "      <td>Aleppo</td>\n",
       "      <td>Moschea Omayyadi</td>\n",
       "      <td>NaN</td>\n",
       "      <td>NaN</td>\n",
       "    </tr>\n",
       "    <tr>\n",
       "      <th>Dura Europos Cittadella fortificazione sull'Efrate</th>\n",
       "      <td>Dura Europos</td>\n",
       "      <td>Cittadella fortificazione sull'Efrate</td>\n",
       "      <td>NaN</td>\n",
       "      <td>NaN</td>\n",
       "    </tr>\n",
       "    <tr>\n",
       "      <th>Bosra Teatro romano</th>\n",
       "      <td>Bosra</td>\n",
       "      <td>Teatro romano</td>\n",
       "      <td>NaN</td>\n",
       "      <td>NaN</td>\n",
       "    </tr>\n",
       "    <tr>\n",
       "      <th>Palmira Fakhr-al-Din al-Maani</th>\n",
       "      <td>Palmira</td>\n",
       "      <td>Fakhr-al-Din al-Maani</td>\n",
       "      <td>NaN</td>\n",
       "      <td>NaN</td>\n",
       "    </tr>\n",
       "    <tr>\n",
       "      <th>Ebla Palazzo G</th>\n",
       "      <td>Ebla</td>\n",
       "      <td>Palazzo G</td>\n",
       "      <td>NaN</td>\n",
       "      <td>NaN</td>\n",
       "    </tr>\n",
       "    <tr>\n",
       "      <th>...</th>\n",
       "      <td>...</td>\n",
       "      <td>...</td>\n",
       "      <td>...</td>\n",
       "      <td>...</td>\n",
       "    </tr>\n",
       "    <tr>\n",
       "      <th>Palmira Tempio della dea Allat/Atena</th>\n",
       "      <td>Palmira</td>\n",
       "      <td>Tempio della dea Allat/Atena</td>\n",
       "      <td>NaN</td>\n",
       "      <td>NaN</td>\n",
       "    </tr>\n",
       "    <tr>\n",
       "      <th>Hama Particolare di una Noria</th>\n",
       "      <td>Hama</td>\n",
       "      <td>Particolare di una Noria</td>\n",
       "      <td>NaN</td>\n",
       "      <td>NaN</td>\n",
       "    </tr>\n",
       "    <tr>\n",
       "      <th>Apamea Particolare della Via colonnata</th>\n",
       "      <td>Apamea</td>\n",
       "      <td>Particolare della Via colonnata</td>\n",
       "      <td>NaN</td>\n",
       "      <td>NaN</td>\n",
       "    </tr>\n",
       "    <tr>\n",
       "      <th>Palmira Teatro romano</th>\n",
       "      <td>Palmira</td>\n",
       "      <td>Teatro romano</td>\n",
       "      <td>Category:Ancient Roman theater (Palmyra)</td>\n",
       "      <td>NaN</td>\n",
       "    </tr>\n",
       "    <tr>\n",
       "      <th>Palmyra Necropoli delle tombe a torre</th>\n",
       "      <td>Palmyra</td>\n",
       "      <td>Necropoli delle tombe a torre</td>\n",
       "      <td>NaN</td>\n",
       "      <td>NaN</td>\n",
       "    </tr>\n",
       "    <tr>\n",
       "      <th>Kanatha Al Qanawat particolare finestra in pietra locale</th>\n",
       "      <td>Kanatha Al Qanawat</td>\n",
       "      <td>particolare finestra in pietra locale</td>\n",
       "      <td>NaN</td>\n",
       "      <td>NaN</td>\n",
       "    </tr>\n",
       "    <tr>\n",
       "      <th>Palmira Via Colonnata</th>\n",
       "      <td>Palmira</td>\n",
       "      <td>Via Colonnata</td>\n",
       "      <td>NaN</td>\n",
       "      <td>NaN</td>\n",
       "    </tr>\n",
       "    <tr>\n",
       "      <th>Palmira rilievo funerario</th>\n",
       "      <td>Palmira</td>\n",
       "      <td>rilievo funerario</td>\n",
       "      <td>NaN</td>\n",
       "      <td>NaN</td>\n",
       "    </tr>\n",
       "    <tr>\n",
       "      <th>Damasco Chiesa bizantina e tempio di Giove</th>\n",
       "      <td>Damasco</td>\n",
       "      <td>Chiesa bizantina e tempio di Giove</td>\n",
       "      <td>NaN</td>\n",
       "      <td>NaN</td>\n",
       "    </tr>\n",
       "    <tr>\n",
       "      <th>Tell Barri Tell Barri</th>\n",
       "      <td>Tell Barri</td>\n",
       "      <td>Tell Barri</td>\n",
       "      <td>NaN</td>\n",
       "      <td>NaN</td>\n",
       "    </tr>\n",
       "    <tr>\n",
       "      <th>Apamea Via colonnata - particolare di una trabeazione</th>\n",
       "      <td>Apamea</td>\n",
       "      <td>Via colonnata - particolare di una trabeazione</td>\n",
       "      <td>NaN</td>\n",
       "      <td>NaN</td>\n",
       "    </tr>\n",
       "    <tr>\n",
       "      <th>Latakia (Laodicea) Colonnato e travatura del Foro</th>\n",
       "      <td>Latakia (Laodicea)</td>\n",
       "      <td>Colonnato e travatura del Foro</td>\n",
       "      <td>NaN</td>\n",
       "      <td>NaN</td>\n",
       "    </tr>\n",
       "    <tr>\n",
       "      <th>Ugarit Tomba nel cortile di un palazzo</th>\n",
       "      <td>Ugarit</td>\n",
       "      <td>Tomba nel cortile di un palazzo</td>\n",
       "      <td>NaN</td>\n",
       "      <td>NaN</td>\n",
       "    </tr>\n",
       "    <tr>\n",
       "      <th>Deir Mar Musa Santuario di San Mosè l'Abissino - Incontro con Padre Dall'Oglio</th>\n",
       "      <td>Deir Mar Musa</td>\n",
       "      <td>Santuario di San Mosè l'Abissino - Incontro co...</td>\n",
       "      <td>Category:Church of Deir Mar Musa</td>\n",
       "      <td>-</td>\n",
       "    </tr>\n",
       "    <tr>\n",
       "      <th>Aleppo Abside della basilica bizantina di Kharab Shems</th>\n",
       "      <td>Aleppo</td>\n",
       "      <td>Abside della basilica bizantina di Kharab Shems</td>\n",
       "      <td>NaN</td>\n",
       "      <td>NaN</td>\n",
       "    </tr>\n",
       "    <tr>\n",
       "      <th>San Simeone Basilica</th>\n",
       "      <td>San Simeone</td>\n",
       "      <td>Basilica</td>\n",
       "      <td>NaN</td>\n",
       "      <td>NaN</td>\n",
       "    </tr>\n",
       "    <tr>\n",
       "      <th>Bosra Grandi terme</th>\n",
       "      <td>Bosra</td>\n",
       "      <td>Grandi terme</td>\n",
       "      <td>NaN</td>\n",
       "      <td>NaN</td>\n",
       "    </tr>\n",
       "    <tr>\n",
       "      <th>Aleppo Resti della basilica bizantina di Kharab Shems</th>\n",
       "      <td>Aleppo</td>\n",
       "      <td>Resti della basilica bizantina di Kharab Shems</td>\n",
       "      <td>NaN</td>\n",
       "      <td>NaN</td>\n",
       "    </tr>\n",
       "    <tr>\n",
       "      <th>Hama Museo Archeologico - Sarcofago tardoantico</th>\n",
       "      <td>Hama</td>\n",
       "      <td>Museo Archeologico - Sarcofago tardoantico</td>\n",
       "      <td>NaN</td>\n",
       "      <td>NaN</td>\n",
       "    </tr>\n",
       "    <tr>\n",
       "      <th>Palmira Tempio di Baal - Architrave con scena di Processione</th>\n",
       "      <td>Palmira</td>\n",
       "      <td>Tempio di Baal - Architrave con scena di Proce...</td>\n",
       "      <td>Category:Temple of Baal in Palmyra</td>\n",
       "      <td>d:Q797481</td>\n",
       "    </tr>\n",
       "    <tr>\n",
       "      <th>Ebla Palazzo meridionale</th>\n",
       "      <td>Ebla</td>\n",
       "      <td>Palazzo meridionale</td>\n",
       "      <td>NaN</td>\n",
       "      <td>NaN</td>\n",
       "    </tr>\n",
       "    <tr>\n",
       "      <th>Maalula Panorama delle grotte di Maalula verso la tagliata di S. Tecla</th>\n",
       "      <td>Maalula</td>\n",
       "      <td>Panorama delle grotte di Maalula verso la tagl...</td>\n",
       "      <td>NaN</td>\n",
       "      <td>NaN</td>\n",
       "    </tr>\n",
       "    <tr>\n",
       "      <th>Damasco Mosaico bizantino</th>\n",
       "      <td>Damasco</td>\n",
       "      <td>Mosaico bizantino</td>\n",
       "      <td>NaN</td>\n",
       "      <td>NaN</td>\n",
       "    </tr>\n",
       "    <tr>\n",
       "      <th>Palmira Qualah ibn Maan_001</th>\n",
       "      <td>Palmira</td>\n",
       "      <td>Qualah ibn Maan_001</td>\n",
       "      <td>NaN</td>\n",
       "      <td>NaN</td>\n",
       "    </tr>\n",
       "    <tr>\n",
       "      <th>Aleppo Corte interna della moschea</th>\n",
       "      <td>Aleppo</td>\n",
       "      <td>Corte interna della moschea</td>\n",
       "      <td>NaN</td>\n",
       "      <td>NaN</td>\n",
       "    </tr>\n",
       "    <tr>\n",
       "      <th>Qalb Lauzeh Lato sinistro della basilica paleocristiana di Qalb Lauzeh</th>\n",
       "      <td>Qalb Lauzeh</td>\n",
       "      <td>Lato sinistro della basilica paleocristiana di...</td>\n",
       "      <td>NaN</td>\n",
       "      <td>NaN</td>\n",
       "    </tr>\n",
       "    <tr>\n",
       "      <th>Dura Europos Fortificazione</th>\n",
       "      <td>Dura Europos</td>\n",
       "      <td>Fortificazione</td>\n",
       "      <td>NaN</td>\n",
       "      <td>NaN</td>\n",
       "    </tr>\n",
       "    <tr>\n",
       "      <th>Palmira Tomba a torre</th>\n",
       "      <td>Palmira</td>\n",
       "      <td>Tomba a torre</td>\n",
       "      <td>NaN</td>\n",
       "      <td>NaN</td>\n",
       "    </tr>\n",
       "    <tr>\n",
       "      <th>Mushennef Tempio romano del I secolo a.C.</th>\n",
       "      <td>Mushennef</td>\n",
       "      <td>Tempio romano del I secolo a.C.</td>\n",
       "      <td>NaN</td>\n",
       "      <td>NaN</td>\n",
       "    </tr>\n",
       "    <tr>\n",
       "      <th>Philippopolis Mosaico romano</th>\n",
       "      <td>Philippopolis</td>\n",
       "      <td>Mosaico romano</td>\n",
       "      <td>NaN</td>\n",
       "      <td>NaN</td>\n",
       "    </tr>\n",
       "  </tbody>\n",
       "</table>\n",
       "<p>265 rows × 4 columns</p>\n",
       "</div>"
      ],
      "text/plain": [
       "                                                                     Luogo  \\\n",
       "Specific place                                                               \n",
       "Aleppo Cittadella                                                   Aleppo   \n",
       "Palmira Tempio di Baal                                             Palmira   \n",
       "Aleppo Suq                                                          Aleppo   \n",
       "Qasr al-Hayr al-Sharqi Palazzo Omayyade             Qasr al-Hayr al-Sharqi   \n",
       "Yabroud Necropoli di Yabroud                                       Yabroud   \n",
       "Sergiopolis Cattedrale bizantina                               Sergiopolis   \n",
       "Halabiyah Fortezza                                               Halabiyah   \n",
       "Apamea Tra i bambini del villaggio arabo                            Apamea   \n",
       "Mari Palazzo di Zimri-Lin                                             Mari   \n",
       "Palmyra Interno dell'Ipogeo di Artaban                             Palmyra   \n",
       "Hama Centro Storico di Hama - particolare                             Hama   \n",
       "Burjikeh rovine bizantine                                         Burjikeh   \n",
       "Darkita rovine bizantine                                           Darkita   \n",
       "Hama Noria                                                            Hama   \n",
       "Palmyra Interno di una tomba a torre                               Palmyra   \n",
       "Tell Barry scavi                                                Tell Barry   \n",
       "Tartus Resti del centro medievale                                   Tartus   \n",
       "Jebl Zawiya Torre posizionata accanto a una gra...             Jebl Zawiya   \n",
       "Aleppo Quartieri di Aleppo                                          Aleppo   \n",
       "Al Quanawat Caseggiato romano                                  Al Quanawat   \n",
       "Apamea Particolare delle sale espositive del Museo                  Apamea   \n",
       "Apamea Via colonnata                                                Apamea   \n",
       "Cyrrus Teatro romano                                                Cyrrus   \n",
       "Palmyra Arco di Trionfo                                            Palmyra   \n",
       "Aleppo Museo                                                        Aleppo   \n",
       "Aleppo Moschea Omayyadi                                             Aleppo   \n",
       "Dura Europos Cittadella fortificazione sull'Efrate            Dura Europos   \n",
       "Bosra Teatro romano                                                  Bosra   \n",
       "Palmira Fakhr-al-Din al-Maani                                      Palmira   \n",
       "Ebla Palazzo G                                                        Ebla   \n",
       "...                                                                    ...   \n",
       "Palmira Tempio della dea Allat/Atena                               Palmira   \n",
       "Hama Particolare di una Noria                                         Hama   \n",
       "Apamea Particolare della Via colonnata                              Apamea   \n",
       "Palmira Teatro romano                                              Palmira   \n",
       "Palmyra Necropoli delle tombe a torre                              Palmyra   \n",
       "Kanatha Al Qanawat particolare finestra in piet...      Kanatha Al Qanawat   \n",
       "Palmira Via Colonnata                                              Palmira   \n",
       "Palmira rilievo funerario                                          Palmira   \n",
       "Damasco Chiesa bizantina e tempio di Giove                         Damasco   \n",
       "Tell Barri Tell Barri                                           Tell Barri   \n",
       "Apamea Via colonnata - particolare di una trabe...                  Apamea   \n",
       "Latakia (Laodicea) Colonnato e travatura del Foro       Latakia (Laodicea)   \n",
       "Ugarit Tomba nel cortile di un palazzo                              Ugarit   \n",
       "Deir Mar Musa Santuario di San Mosè l'Abissino ...           Deir Mar Musa   \n",
       "Aleppo Abside della basilica bizantina di Khara...                  Aleppo   \n",
       "San Simeone Basilica                                           San Simeone   \n",
       "Bosra Grandi terme                                                   Bosra   \n",
       "Aleppo Resti della basilica bizantina di Kharab...                  Aleppo   \n",
       "Hama Museo Archeologico - Sarcofago tardoantico                       Hama   \n",
       "Palmira Tempio di Baal - Architrave con scena d...                 Palmira   \n",
       "Ebla Palazzo meridionale                                              Ebla   \n",
       "Maalula Panorama delle grotte di Maalula verso ...                 Maalula   \n",
       "Damasco Mosaico bizantino                                          Damasco   \n",
       "Palmira Qualah ibn Maan_001                                        Palmira   \n",
       "Aleppo Corte interna della moschea                                  Aleppo   \n",
       "Qalb Lauzeh Lato sinistro della basilica paleoc...             Qalb Lauzeh   \n",
       "Dura Europos Fortificazione                                   Dura Europos   \n",
       "Palmira Tomba a torre                                              Palmira   \n",
       "Mushennef Tempio romano del I secolo a.C.                        Mushennef   \n",
       "Philippopolis Mosaico romano                                 Philippopolis   \n",
       "\n",
       "                                                                                       Nome monumento  \\\n",
       "Specific place                                                                                          \n",
       "Aleppo Cittadella                                                                          Cittadella   \n",
       "Palmira Tempio di Baal                                                                 Tempio di Baal   \n",
       "Aleppo Suq                                                                                        Suq   \n",
       "Qasr al-Hayr al-Sharqi Palazzo Omayyade                                              Palazzo Omayyade   \n",
       "Yabroud Necropoli di Yabroud                                                     Necropoli di Yabroud   \n",
       "Sergiopolis Cattedrale bizantina                                                 Cattedrale bizantina   \n",
       "Halabiyah Fortezza                                                                           Fortezza   \n",
       "Apamea Tra i bambini del villaggio arabo                            Tra i bambini del villaggio arabo   \n",
       "Mari Palazzo di Zimri-Lin                                                        Palazzo di Zimri-Lin   \n",
       "Palmyra Interno dell'Ipogeo di Artaban                                 Interno dell'Ipogeo di Artaban   \n",
       "Hama Centro Storico di Hama - particolare                        Centro Storico di Hama - particolare   \n",
       "Burjikeh rovine bizantine                                                            rovine bizantine   \n",
       "Darkita rovine bizantine                                                             rovine bizantine   \n",
       "Hama Noria                                                                                      Noria   \n",
       "Palmyra Interno di una tomba a torre                                     Interno di una tomba a torre   \n",
       "Tell Barry scavi                                                                                scavi   \n",
       "Tartus Resti del centro medievale                                          Resti del centro medievale   \n",
       "Jebl Zawiya Torre posizionata accanto a una gra...       Torre posizionata accanto a una grande villa   \n",
       "Aleppo Quartieri di Aleppo                                                        Quartieri di Aleppo   \n",
       "Al Quanawat Caseggiato romano                                                       Caseggiato romano   \n",
       "Apamea Particolare delle sale espositive del Museo        Particolare delle sale espositive del Museo   \n",
       "Apamea Via colonnata                                                                    Via colonnata   \n",
       "Cyrrus Teatro romano                                                                    Teatro romano   \n",
       "Palmyra Arco di Trionfo                                                               Arco di Trionfo   \n",
       "Aleppo Museo                                                                                    Museo   \n",
       "Aleppo Moschea Omayyadi                                                              Moschea Omayyadi   \n",
       "Dura Europos Cittadella fortificazione sull'Efrate              Cittadella fortificazione sull'Efrate   \n",
       "Bosra Teatro romano                                                                     Teatro romano   \n",
       "Palmira Fakhr-al-Din al-Maani                                                   Fakhr-al-Din al-Maani   \n",
       "Ebla Palazzo G                                                                              Palazzo G   \n",
       "...                                                                                               ...   \n",
       "Palmira Tempio della dea Allat/Atena                                     Tempio della dea Allat/Atena   \n",
       "Hama Particolare di una Noria                                                Particolare di una Noria   \n",
       "Apamea Particolare della Via colonnata                                Particolare della Via colonnata   \n",
       "Palmira Teatro romano                                                                   Teatro romano   \n",
       "Palmyra Necropoli delle tombe a torre                                   Necropoli delle tombe a torre   \n",
       "Kanatha Al Qanawat particolare finestra in piet...              particolare finestra in pietra locale   \n",
       "Palmira Via Colonnata                                                                   Via Colonnata   \n",
       "Palmira rilievo funerario                                                           rilievo funerario   \n",
       "Damasco Chiesa bizantina e tempio di Giove                         Chiesa bizantina e tempio di Giove   \n",
       "Tell Barri Tell Barri                                                                      Tell Barri   \n",
       "Apamea Via colonnata - particolare di una trabe...     Via colonnata - particolare di una trabeazione   \n",
       "Latakia (Laodicea) Colonnato e travatura del Foro                      Colonnato e travatura del Foro   \n",
       "Ugarit Tomba nel cortile di un palazzo                                Tomba nel cortile di un palazzo   \n",
       "Deir Mar Musa Santuario di San Mosè l'Abissino ...  Santuario di San Mosè l'Abissino - Incontro co...   \n",
       "Aleppo Abside della basilica bizantina di Khara...    Abside della basilica bizantina di Kharab Shems   \n",
       "San Simeone Basilica                                                                         Basilica   \n",
       "Bosra Grandi terme                                                                       Grandi terme   \n",
       "Aleppo Resti della basilica bizantina di Kharab...     Resti della basilica bizantina di Kharab Shems   \n",
       "Hama Museo Archeologico - Sarcofago tardoantico            Museo Archeologico - Sarcofago tardoantico   \n",
       "Palmira Tempio di Baal - Architrave con scena d...  Tempio di Baal - Architrave con scena di Proce...   \n",
       "Ebla Palazzo meridionale                                                          Palazzo meridionale   \n",
       "Maalula Panorama delle grotte di Maalula verso ...  Panorama delle grotte di Maalula verso la tagl...   \n",
       "Damasco Mosaico bizantino                                                           Mosaico bizantino   \n",
       "Palmira Qualah ibn Maan_001                                                       Qualah ibn Maan_001   \n",
       "Aleppo Corte interna della moschea                                        Corte interna della moschea   \n",
       "Qalb Lauzeh Lato sinistro della basilica paleoc...  Lato sinistro della basilica paleocristiana di...   \n",
       "Dura Europos Fortificazione                                                            Fortificazione   \n",
       "Palmira Tomba a torre                                                                   Tomba a torre   \n",
       "Mushennef Tempio romano del I secolo a.C.                             Tempio romano del I secolo a.C.   \n",
       "Philippopolis Mosaico romano                                                           Mosaico romano   \n",
       "\n",
       "                                                                                    category  \\\n",
       "Specific place                                                                                 \n",
       "Aleppo Cittadella                                                    Category:Aleppo citadel   \n",
       "Palmira Tempio di Baal                                    Category:Temple of Baal in Palmyra   \n",
       "Aleppo Suq                                                                   Category:Aleppo   \n",
       "Qasr al-Hayr al-Sharqi Palazzo Omayyade                                                  NaN   \n",
       "Yabroud Necropoli di Yabroud                                                             NaN   \n",
       "Sergiopolis Cattedrale bizantina                                                         NaN   \n",
       "Halabiyah Fortezza                                                                       NaN   \n",
       "Apamea Tra i bambini del villaggio arabo                                                 NaN   \n",
       "Mari Palazzo di Zimri-Lin                                                                NaN   \n",
       "Palmyra Interno dell'Ipogeo di Artaban                                                   NaN   \n",
       "Hama Centro Storico di Hama - particolare                                                NaN   \n",
       "Burjikeh rovine bizantine                                                                NaN   \n",
       "Darkita rovine bizantine                                                                 NaN   \n",
       "Hama Noria                                                                               NaN   \n",
       "Palmyra Interno di una tomba a torre                                                     NaN   \n",
       "Tell Barry scavi                                                                         NaN   \n",
       "Tartus Resti del centro medievale                                                        NaN   \n",
       "Jebl Zawiya Torre posizionata accanto a una gra...                                       NaN   \n",
       "Aleppo Quartieri di Aleppo                                                               NaN   \n",
       "Al Quanawat Caseggiato romano                                                            NaN   \n",
       "Apamea Particolare delle sale espositive del Museo                                       NaN   \n",
       "Apamea Via colonnata                                                                     NaN   \n",
       "Cyrrus Teatro romano                                                                     NaN   \n",
       "Palmyra Arco di Trionfo                                                                  NaN   \n",
       "Aleppo Museo                                                                             NaN   \n",
       "Aleppo Moschea Omayyadi                                                                  NaN   \n",
       "Dura Europos Cittadella fortificazione sull'Efrate                                       NaN   \n",
       "Bosra Teatro romano                                                                      NaN   \n",
       "Palmira Fakhr-al-Din al-Maani                                                            NaN   \n",
       "Ebla Palazzo G                                                                           NaN   \n",
       "...                                                                                      ...   \n",
       "Palmira Tempio della dea Allat/Atena                                                     NaN   \n",
       "Hama Particolare di una Noria                                                            NaN   \n",
       "Apamea Particolare della Via colonnata                                                   NaN   \n",
       "Palmira Teatro romano                               Category:Ancient Roman theater (Palmyra)   \n",
       "Palmyra Necropoli delle tombe a torre                                                    NaN   \n",
       "Kanatha Al Qanawat particolare finestra in piet...                                       NaN   \n",
       "Palmira Via Colonnata                                                                    NaN   \n",
       "Palmira rilievo funerario                                                                NaN   \n",
       "Damasco Chiesa bizantina e tempio di Giove                                               NaN   \n",
       "Tell Barri Tell Barri                                                                    NaN   \n",
       "Apamea Via colonnata - particolare di una trabe...                                       NaN   \n",
       "Latakia (Laodicea) Colonnato e travatura del Foro                                        NaN   \n",
       "Ugarit Tomba nel cortile di un palazzo                                                   NaN   \n",
       "Deir Mar Musa Santuario di San Mosè l'Abissino ...          Category:Church of Deir Mar Musa   \n",
       "Aleppo Abside della basilica bizantina di Khara...                                       NaN   \n",
       "San Simeone Basilica                                                                     NaN   \n",
       "Bosra Grandi terme                                                                       NaN   \n",
       "Aleppo Resti della basilica bizantina di Kharab...                                       NaN   \n",
       "Hama Museo Archeologico - Sarcofago tardoantico                                          NaN   \n",
       "Palmira Tempio di Baal - Architrave con scena d...        Category:Temple of Baal in Palmyra   \n",
       "Ebla Palazzo meridionale                                                                 NaN   \n",
       "Maalula Panorama delle grotte di Maalula verso ...                                       NaN   \n",
       "Damasco Mosaico bizantino                                                                NaN   \n",
       "Palmira Qualah ibn Maan_001                                                              NaN   \n",
       "Aleppo Corte interna della moschea                                                       NaN   \n",
       "Qalb Lauzeh Lato sinistro della basilica paleoc...                                       NaN   \n",
       "Dura Europos Fortificazione                                                              NaN   \n",
       "Palmira Tomba a torre                                                                    NaN   \n",
       "Mushennef Tempio romano del I secolo a.C.                                                NaN   \n",
       "Philippopolis Mosaico romano                                                             NaN   \n",
       "\n",
       "                                                     wikidata  \n",
       "Specific place                                                 \n",
       "Aleppo Cittadella                                   d:Q206231  \n",
       "Palmira Tempio di Baal                              d:Q797481  \n",
       "Aleppo Suq                                                NaN  \n",
       "Qasr al-Hayr al-Sharqi Palazzo Omayyade                   NaN  \n",
       "Yabroud Necropoli di Yabroud                              NaN  \n",
       "Sergiopolis Cattedrale bizantina                          NaN  \n",
       "Halabiyah Fortezza                                        NaN  \n",
       "Apamea Tra i bambini del villaggio arabo                  NaN  \n",
       "Mari Palazzo di Zimri-Lin                                 NaN  \n",
       "Palmyra Interno dell'Ipogeo di Artaban                    NaN  \n",
       "Hama Centro Storico di Hama - particolare                 NaN  \n",
       "Burjikeh rovine bizantine                                 NaN  \n",
       "Darkita rovine bizantine                                  NaN  \n",
       "Hama Noria                                                NaN  \n",
       "Palmyra Interno di una tomba a torre                      NaN  \n",
       "Tell Barry scavi                                          NaN  \n",
       "Tartus Resti del centro medievale                         NaN  \n",
       "Jebl Zawiya Torre posizionata accanto a una gra...        NaN  \n",
       "Aleppo Quartieri di Aleppo                                NaN  \n",
       "Al Quanawat Caseggiato romano                             NaN  \n",
       "Apamea Particolare delle sale espositive del Museo        NaN  \n",
       "Apamea Via colonnata                                      NaN  \n",
       "Cyrrus Teatro romano                                      NaN  \n",
       "Palmyra Arco di Trionfo                                   NaN  \n",
       "Aleppo Museo                                              NaN  \n",
       "Aleppo Moschea Omayyadi                                   NaN  \n",
       "Dura Europos Cittadella fortificazione sull'Efrate        NaN  \n",
       "Bosra Teatro romano                                       NaN  \n",
       "Palmira Fakhr-al-Din al-Maani                             NaN  \n",
       "Ebla Palazzo G                                            NaN  \n",
       "...                                                       ...  \n",
       "Palmira Tempio della dea Allat/Atena                      NaN  \n",
       "Hama Particolare di una Noria                             NaN  \n",
       "Apamea Particolare della Via colonnata                    NaN  \n",
       "Palmira Teatro romano                                     NaN  \n",
       "Palmyra Necropoli delle tombe a torre                     NaN  \n",
       "Kanatha Al Qanawat particolare finestra in piet...        NaN  \n",
       "Palmira Via Colonnata                                     NaN  \n",
       "Palmira rilievo funerario                                 NaN  \n",
       "Damasco Chiesa bizantina e tempio di Giove                NaN  \n",
       "Tell Barri Tell Barri                                     NaN  \n",
       "Apamea Via colonnata - particolare di una trabe...        NaN  \n",
       "Latakia (Laodicea) Colonnato e travatura del Foro         NaN  \n",
       "Ugarit Tomba nel cortile di un palazzo                    NaN  \n",
       "Deir Mar Musa Santuario di San Mosè l'Abissino ...          -  \n",
       "Aleppo Abside della basilica bizantina di Khara...        NaN  \n",
       "San Simeone Basilica                                      NaN  \n",
       "Bosra Grandi terme                                        NaN  \n",
       "Aleppo Resti della basilica bizantina di Kharab...        NaN  \n",
       "Hama Museo Archeologico - Sarcofago tardoantico           NaN  \n",
       "Palmira Tempio di Baal - Architrave con scena d...  d:Q797481  \n",
       "Ebla Palazzo meridionale                                  NaN  \n",
       "Maalula Panorama delle grotte di Maalula verso ...        NaN  \n",
       "Damasco Mosaico bizantino                                 NaN  \n",
       "Palmira Qualah ibn Maan_001                               NaN  \n",
       "Aleppo Corte interna della moschea                        NaN  \n",
       "Qalb Lauzeh Lato sinistro della basilica paleoc...        NaN  \n",
       "Dura Europos Fortificazione                               NaN  \n",
       "Palmira Tomba a torre                                     NaN  \n",
       "Mushennef Tempio romano del I secolo a.C.                 NaN  \n",
       "Philippopolis Mosaico romano                              NaN  \n",
       "\n",
       "[265 rows x 4 columns]"
      ]
     },
     "execution_count": 15,
     "metadata": {},
     "output_type": "execute_result"
    }
   ],
   "source": [
    "place_mappings_specific"
   ]
  },
  {
   "cell_type": "code",
   "execution_count": null,
   "metadata": {
    "collapsed": true
   },
   "outputs": [],
   "source": []
  }
 ],
 "metadata": {
  "anaconda-cloud": {},
  "hide_input": false,
  "kernelspec": {
   "display_name": "Python [Root]",
   "language": "python",
   "name": "Python [Root]"
  },
  "language_info": {
   "codemirror_mode": {
    "name": "ipython",
    "version": 3
   },
   "file_extension": ".py",
   "mimetype": "text/x-python",
   "name": "python",
   "nbconvert_exporter": "python",
   "pygments_lexer": "ipython3",
   "version": "3.5.1"
  },
  "nbpresent": {
   "slides": {
    "0901f2e4-c773-4909-adae-b82e53c29f31": {
     "id": "0901f2e4-c773-4909-adae-b82e53c29f31",
     "prev": "e4f1b63d-5170-4941-8547-d951040d85c4",
     "regions": {
      "2b12a865-feb3-4799-b847-8ab136047e21": {
       "attrs": {
        "height": 0.8,
        "width": 0.8,
        "x": 0.1,
        "y": 0.1
       },
       "content": {
        "cell": "2954be0c-0f18-4e9f-8a13-94de750b4714",
        "part": "whole"
       },
       "id": "2b12a865-feb3-4799-b847-8ab136047e21"
      }
     }
    },
    "1361a6f5-a8f4-4022-81dd-cbb3081e964a": {
     "id": "1361a6f5-a8f4-4022-81dd-cbb3081e964a",
     "prev": "65d49403-5a2b-4cee-9875-643b13bb0168",
     "regions": {
      "836f990c-5a73-4464-a0a8-07ce478da421": {
       "attrs": {
        "height": 0.8,
        "width": 0.8,
        "x": 0.1,
        "y": 0.1
       },
       "content": {
        "cell": "052d037e-a759-4440-9f5f-f0ef323a99ff",
        "part": "whole"
       },
       "id": "836f990c-5a73-4464-a0a8-07ce478da421"
      }
     }
    },
    "1cca2eba-65f3-4906-b60d-6bd9df9ecdec": {
     "id": "1cca2eba-65f3-4906-b60d-6bd9df9ecdec",
     "prev": null,
     "regions": {
      "fd881fcd-382e-4b18-a355-a6e1a7dd491f": {
       "attrs": {
        "height": 0.8,
        "width": 0.8,
        "x": 0.1,
        "y": 0.1
       },
       "content": {
        "cell": "a97ff06c-9f13-4e09-9906-5c427bbf9ed9",
        "part": "whole"
       },
       "id": "fd881fcd-382e-4b18-a355-a6e1a7dd491f"
      }
     }
    },
    "1fb03836-dddb-4571-8f40-2f0c84b91d2c": {
     "id": "1fb03836-dddb-4571-8f40-2f0c84b91d2c",
     "prev": "54d3f504-1c3e-4acc-98e6-953c8a4d92cb",
     "regions": {
      "9b462c00-9395-43d7-b0e7-a9264f180be8": {
       "attrs": {
        "height": 0.8,
        "width": 0.8,
        "x": 0.1,
        "y": 0.1
       },
       "content": {
        "cell": "a06f0517-6e82-46bd-8a1b-ba449f753988",
        "part": "whole"
       },
       "id": "9b462c00-9395-43d7-b0e7-a9264f180be8"
      }
     }
    },
    "2a772e10-781d-41d2-9a57-f9730ff37a6e": {
     "id": "2a772e10-781d-41d2-9a57-f9730ff37a6e",
     "prev": "1cca2eba-65f3-4906-b60d-6bd9df9ecdec",
     "regions": {}
    },
    "54d3f504-1c3e-4acc-98e6-953c8a4d92cb": {
     "id": "54d3f504-1c3e-4acc-98e6-953c8a4d92cb",
     "prev": "6908b1c4-638f-444e-b0e8-286d459a0828",
     "regions": {
      "aaa2b439-3da2-40f8-8d51-e3f05bea92e0": {
       "attrs": {
        "height": 0.8,
        "width": 0.8,
        "x": 0.1,
        "y": 0.1
       },
       "content": {
        "cell": "3f2afa3a-1feb-4411-873c-fc69dfe3d906",
        "part": "whole"
       },
       "id": "aaa2b439-3da2-40f8-8d51-e3f05bea92e0"
      }
     }
    },
    "65d49403-5a2b-4cee-9875-643b13bb0168": {
     "id": "65d49403-5a2b-4cee-9875-643b13bb0168",
     "prev": "663bbbd8-07f3-494b-b28b-1b2ab95fa1df",
     "regions": {
      "44adc21a-619b-4d29-8347-3ba6b2b3571a": {
       "attrs": {
        "height": 0.8,
        "width": 0.8,
        "x": 0.1,
        "y": 0.1
       },
       "content": {
        "cell": "ece894ad-972b-4ce4-8dd8-916f67026fa4",
        "part": "whole"
       },
       "id": "44adc21a-619b-4d29-8347-3ba6b2b3571a"
      }
     }
    },
    "663bbbd8-07f3-494b-b28b-1b2ab95fa1df": {
     "id": "663bbbd8-07f3-494b-b28b-1b2ab95fa1df",
     "prev": "9a84fb33-d3e6-4a85-8758-29767a8d1704",
     "regions": {
      "c752dee4-0751-459d-8114-32e32147dc6d": {
       "attrs": {
        "height": 0.8,
        "width": 0.8,
        "x": 0.1,
        "y": 0.1
       },
       "content": {
        "cell": "309e09c7-d931-4b87-b03d-57c9e1e3617f",
        "part": "whole"
       },
       "id": "c752dee4-0751-459d-8114-32e32147dc6d"
      }
     }
    },
    "6908b1c4-638f-444e-b0e8-286d459a0828": {
     "id": "6908b1c4-638f-444e-b0e8-286d459a0828",
     "prev": "7e9fd61c-23bc-4d54-800a-f8ec267d7008",
     "regions": {
      "ce8b8cd8-2024-44fa-83bf-b77a3df3fa6b": {
       "attrs": {
        "height": 0.8,
        "width": 0.8,
        "x": 0.1,
        "y": 0.1
       },
       "content": {
        "cell": "d31e315c-98a0-46c7-a7b5-01bc7c48b6cd",
        "part": "whole"
       },
       "id": "ce8b8cd8-2024-44fa-83bf-b77a3df3fa6b"
      }
     }
    },
    "733f634b-3287-4f33-8adc-e290b3f19161": {
     "id": "733f634b-3287-4f33-8adc-e290b3f19161",
     "prev": "ae3228b7-45cc-447a-8be7-bc7794f3b60e",
     "regions": {
      "9c182d83-18e4-4e95-be65-3a56e665c5d9": {
       "attrs": {
        "height": 0.8,
        "width": 0.8,
        "x": 0.1,
        "y": 0.1
       },
       "content": {
        "cell": "ed7214d6-c3c4-4e94-885b-af3fe0700199",
        "part": "whole"
       },
       "id": "9c182d83-18e4-4e95-be65-3a56e665c5d9"
      }
     }
    },
    "7a09a143-750f-4e83-a665-83f73b8b7a66": {
     "id": "7a09a143-750f-4e83-a665-83f73b8b7a66",
     "prev": "b3dd8e72-3116-487f-97bd-05bf19c58df4",
     "regions": {
      "08a396de-0302-4fce-91a1-52518e78dbce": {
       "attrs": {
        "height": 0.8,
        "width": 0.8,
        "x": 0.1,
        "y": 0.1
       },
       "content": {
        "cell": "6c99fc00-d9a7-4d45-92a3-fd14877885ae",
        "part": "whole"
       },
       "id": "08a396de-0302-4fce-91a1-52518e78dbce"
      }
     }
    },
    "7e9fd61c-23bc-4d54-800a-f8ec267d7008": {
     "id": "7e9fd61c-23bc-4d54-800a-f8ec267d7008",
     "prev": "0901f2e4-c773-4909-adae-b82e53c29f31",
     "regions": {
      "f50b771a-cb0a-4047-841c-6214b0827032": {
       "attrs": {
        "height": 0.8,
        "width": 0.8,
        "x": 0.1,
        "y": 0.1
       },
       "content": {
        "cell": "c6f32ee1-efec-4c5d-97a3-70bfec031060",
        "part": "whole"
       },
       "id": "f50b771a-cb0a-4047-841c-6214b0827032"
      }
     }
    },
    "9a84fb33-d3e6-4a85-8758-29767a8d1704": {
     "id": "9a84fb33-d3e6-4a85-8758-29767a8d1704",
     "prev": "fabb43f5-92f0-4b4f-99d5-a930b138656a",
     "regions": {
      "74a2d8e9-868a-4749-bd9a-f4cee8c4f1f9": {
       "attrs": {
        "height": 0.8,
        "width": 0.8,
        "x": 0.1,
        "y": 0.1
       },
       "content": {
        "cell": "f4a04a64-8bc9-41dd-9d31-09d3aa1c0315",
        "part": "whole"
       },
       "id": "74a2d8e9-868a-4749-bd9a-f4cee8c4f1f9"
      }
     }
    },
    "9f99d3b7-ea3e-46bc-b5db-33072ced8e0e": {
     "id": "9f99d3b7-ea3e-46bc-b5db-33072ced8e0e",
     "prev": "1fb03836-dddb-4571-8f40-2f0c84b91d2c",
     "regions": {
      "3e7be207-1ce7-44d5-a71a-72058c2930d4": {
       "attrs": {
        "height": 0.8,
        "width": 0.8,
        "x": 0.1,
        "y": 0.1
       },
       "content": {
        "cell": "9a74f27c-f47c-42df-af6d-eb91255d342e",
        "part": "whole"
       },
       "id": "3e7be207-1ce7-44d5-a71a-72058c2930d4"
      }
     }
    },
    "abeb2d43-822d-4a8f-a3bd-5713b1c2cd39": {
     "id": "abeb2d43-822d-4a8f-a3bd-5713b1c2cd39",
     "prev": "e7a11b75-7e6f-42b7-bc0e-b158a318e6c4",
     "regions": {
      "3feaf9ea-56fa-4c1f-ba8d-c98de392ffc7": {
       "attrs": {
        "height": 0.8,
        "width": 0.8,
        "x": 0.1,
        "y": 0.1
       },
       "content": {
        "cell": "eca543a0-06c8-4032-bf21-2c1ef0627b40",
        "part": "whole"
       },
       "id": "3feaf9ea-56fa-4c1f-ba8d-c98de392ffc7"
      }
     }
    },
    "ad442b55-6803-4486-9ec6-f63d952c31a6": {
     "id": "ad442b55-6803-4486-9ec6-f63d952c31a6",
     "prev": "2a772e10-781d-41d2-9a57-f9730ff37a6e",
     "regions": {
      "43dcf57c-46b1-4608-b6fd-0b855179138e": {
       "attrs": {
        "height": 0.8,
        "width": 0.8,
        "x": 0.1,
        "y": 0.1
       },
       "content": {
        "cell": "8c4677f9-fc98-4410-a9d9-9e3fb02b696d",
        "part": "source"
       },
       "id": "43dcf57c-46b1-4608-b6fd-0b855179138e"
      }
     }
    },
    "ae3228b7-45cc-447a-8be7-bc7794f3b60e": {
     "id": "ae3228b7-45cc-447a-8be7-bc7794f3b60e",
     "prev": "f97e286e-2bd7-489c-8961-3631d5e6cc8d",
     "regions": {
      "2e800bb0-d676-4da5-bb9c-d405d6f36b36": {
       "attrs": {
        "height": 0.8,
        "width": 0.8,
        "x": 0.1,
        "y": 0.1
       },
       "content": {
        "cell": "1b0e9f77-27b9-403e-b72f-180298de7462",
        "part": "whole"
       },
       "id": "2e800bb0-d676-4da5-bb9c-d405d6f36b36"
      }
     }
    },
    "b3dd8e72-3116-487f-97bd-05bf19c58df4": {
     "id": "b3dd8e72-3116-487f-97bd-05bf19c58df4",
     "prev": "ad442b55-6803-4486-9ec6-f63d952c31a6",
     "regions": {
      "330a8615-47fa-431d-b904-2b965936353b": {
       "attrs": {
        "height": 0.8,
        "width": 0.8,
        "x": 0.1,
        "y": 0.1
       },
       "content": {
        "cell": "65a0dddd-8653-40dc-872f-eec1555ba29e",
        "part": "whole"
       },
       "id": "330a8615-47fa-431d-b904-2b965936353b"
      }
     }
    },
    "e4f1b63d-5170-4941-8547-d951040d85c4": {
     "id": "e4f1b63d-5170-4941-8547-d951040d85c4",
     "prev": "733f634b-3287-4f33-8adc-e290b3f19161",
     "regions": {
      "8222e371-3866-4098-86e2-e4208ff6e0e3": {
       "attrs": {
        "height": 0.8,
        "width": 0.8,
        "x": 0.1,
        "y": 0.1
       },
       "content": {
        "cell": "b17ac894-1eea-41f8-859a-a0e4974a5af8",
        "part": "whole"
       },
       "id": "8222e371-3866-4098-86e2-e4208ff6e0e3"
      }
     }
    },
    "e7a11b75-7e6f-42b7-bc0e-b158a318e6c4": {
     "id": "e7a11b75-7e6f-42b7-bc0e-b158a318e6c4",
     "prev": "1361a6f5-a8f4-4022-81dd-cbb3081e964a",
     "regions": {
      "316d1669-1f35-446d-8817-1c849662fb3f": {
       "attrs": {
        "height": 0.8,
        "width": 0.8,
        "x": 0.1,
        "y": 0.1
       },
       "content": {
        "cell": "e42f8713-e788-4441-92e6-366534e6d2e0",
        "part": "whole"
       },
       "id": "316d1669-1f35-446d-8817-1c849662fb3f"
      }
     }
    },
    "f3ba254d-fde3-42ee-b67c-d7bcdfeb3bb7": {
     "id": "f3ba254d-fde3-42ee-b67c-d7bcdfeb3bb7",
     "prev": "7a09a143-750f-4e83-a665-83f73b8b7a66",
     "regions": {
      "3fb9e2af-0dce-437d-8517-972e3956c647": {
       "attrs": {
        "height": 0.8,
        "width": 0.8,
        "x": 0.1,
        "y": 0.1
       },
       "content": {
        "cell": "d287d7d1-e53f-4b5b-8346-dcc13dfc144e",
        "part": "whole"
       },
       "id": "3fb9e2af-0dce-437d-8517-972e3956c647"
      }
     }
    },
    "f97e286e-2bd7-489c-8961-3631d5e6cc8d": {
     "id": "f97e286e-2bd7-489c-8961-3631d5e6cc8d",
     "prev": "f3ba254d-fde3-42ee-b67c-d7bcdfeb3bb7",
     "regions": {
      "b9d5683a-eee1-4652-af70-038300e8b6e5": {
       "attrs": {
        "height": 0.8,
        "width": 0.8,
        "x": 0.1,
        "y": 0.1
       },
       "content": {
        "cell": "3769fd33-b858-4ca8-8eb6-81e00e394642",
        "part": "whole"
       },
       "id": "b9d5683a-eee1-4652-af70-038300e8b6e5"
      }
     }
    },
    "fabb43f5-92f0-4b4f-99d5-a930b138656a": {
     "id": "fabb43f5-92f0-4b4f-99d5-a930b138656a",
     "prev": "9f99d3b7-ea3e-46bc-b5db-33072ced8e0e",
     "regions": {
      "969b34f2-e54c-4efd-bc2a-36e43e18ef34": {
       "attrs": {
        "height": 0.8,
        "width": 0.8,
        "x": 0.1,
        "y": 0.1
       },
       "content": {
        "cell": "706e4935-8aec-4ac4-adfd-1f7456fe4b39",
        "part": "whole"
       },
       "id": "969b34f2-e54c-4efd-bc2a-36e43e18ef34"
      }
     }
    }
   },
   "themes": {
    "default": "dd32933a-c1db-463a-8321-c2438e70f10e",
    "theme": {}
   }
  }
 },
 "nbformat": 4,
 "nbformat_minor": 0
}
