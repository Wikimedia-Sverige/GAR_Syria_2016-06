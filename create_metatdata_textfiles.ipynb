{
 "cells": [
  {
   "cell_type": "code",
   "execution_count": null,
   "metadata": {
    "collapsed": true
   },
   "outputs": [],
   "source": [
    "!pip install html5lib # For Pandas read_html used to parse mapping wikitables "
   ]
  },
  {
   "cell_type": "code",
   "execution_count": 1,
   "metadata": {
    "collapsed": false
   },
   "outputs": [],
   "source": [
    "import regex, os\n",
    "import pandas as pd"
   ]
  },
  {
   "cell_type": "markdown",
   "metadata": {},
   "source": [
    "# Metadata and mappings\n",
    "The template mapping can be found here:\n",
    "\n",
    "https://docs.google.com/document/d/1c1dMTIe2CkJnWWkHt1M-pA9Nx7xEbU7zhIbWv4IZLyo/edit?usp=sharing\n",
    "\n",
    "The original metadata is a Google Spreadsheet located here:\n",
    "\n",
    "https://docs.google.com/spreadsheets/d/1s6l0Ms_14_b3wZhPHGgbCYFCs0nrKlD9E-Uxk_r3Mnc/edit?ts=57737736#gid=0"
   ]
  },
  {
   "cell_type": "code",
   "execution_count": 2,
   "metadata": {
    "collapsed": true
   },
   "outputs": [],
   "source": [
    "metadata_it = pd.read_excel(\"./data/COH_GAR_metadata.xlsx\",sheetname=\"Italian\", skiprows=[1]) # empty first row\n",
    "metadata_en = pd.read_excel(\"./data/COH_GAR_metadata.xlsx\",sheetname=\"English\")"
   ]
  },
  {
   "cell_type": "code",
   "execution_count": 3,
   "metadata": {
    "collapsed": false
   },
   "outputs": [
    {
     "data": {
      "text/html": [
       "<div>\n",
       "<table border=\"1\" class=\"dataframe\">\n",
       "  <thead>\n",
       "    <tr style=\"text-align: right;\">\n",
       "      <th></th>\n",
       "      <th>Nome foto</th>\n",
       "      <th>Anno</th>\n",
       "      <th>Luogo</th>\n",
       "      <th>Nome monumento</th>\n",
       "      <th>Descrizione</th>\n",
       "      <th>Nome autore</th>\n",
       "    </tr>\n",
       "  </thead>\n",
       "  <tbody>\n",
       "    <tr>\n",
       "      <th>0</th>\n",
       "      <td>Aleppo_Cittadella_01</td>\n",
       "      <td>2006</td>\n",
       "      <td>Aleppo</td>\n",
       "      <td>Cittadella</td>\n",
       "      <td>Porta di ingresso</td>\n",
       "      <td>GAR_Ilario Di Nardo</td>\n",
       "    </tr>\n",
       "    <tr>\n",
       "      <th>1</th>\n",
       "      <td>Amrit_Sepolcro_01</td>\n",
       "      <td>2006</td>\n",
       "      <td>Amrit</td>\n",
       "      <td>Meghazil Sepolcro</td>\n",
       "      <td>NaN</td>\n",
       "      <td>GAR_Ilario Di Nardo</td>\n",
       "    </tr>\n",
       "    <tr>\n",
       "      <th>2</th>\n",
       "      <td>Bosra_Teatro Romano_01</td>\n",
       "      <td>2006</td>\n",
       "      <td>Bosra</td>\n",
       "      <td>Teatro Romano</td>\n",
       "      <td>Bosra è un'antica città nel sud della Siria, p...</td>\n",
       "      <td>GAR_Ilario Di Nardo</td>\n",
       "    </tr>\n",
       "    <tr>\n",
       "      <th>3</th>\n",
       "      <td>Damasco_Tempio di Giove_01</td>\n",
       "      <td>2006</td>\n",
       "      <td>Damasco</td>\n",
       "      <td>Tempio di Giove</td>\n",
       "      <td>Rovine del tempio di Giove all'ingresso del Su...</td>\n",
       "      <td>GAR_Ilario Di Nardo</td>\n",
       "    </tr>\n",
       "    <tr>\n",
       "      <th>4</th>\n",
       "      <td>Dura Europos_Panorama_01</td>\n",
       "      <td>2006</td>\n",
       "      <td>Dura Europos</td>\n",
       "      <td>Panorama</td>\n",
       "      <td>NaN</td>\n",
       "      <td>GAR_Ilario Di Nardo</td>\n",
       "    </tr>\n",
       "  </tbody>\n",
       "</table>\n",
       "</div>"
      ],
      "text/plain": [
       "                    Nome foto  Anno         Luogo     Nome monumento  \\\n",
       "0        Aleppo_Cittadella_01  2006        Aleppo         Cittadella   \n",
       "1           Amrit_Sepolcro_01  2006         Amrit  Meghazil Sepolcro   \n",
       "2      Bosra_Teatro Romano_01  2006         Bosra      Teatro Romano   \n",
       "3  Damasco_Tempio di Giove_01  2006       Damasco    Tempio di Giove   \n",
       "4    Dura Europos_Panorama_01  2006  Dura Europos           Panorama   \n",
       "\n",
       "                                         Descrizione          Nome autore  \n",
       "0                                  Porta di ingresso  GAR_Ilario Di Nardo  \n",
       "1                                                NaN  GAR_Ilario Di Nardo  \n",
       "2  Bosra è un'antica città nel sud della Siria, p...  GAR_Ilario Di Nardo  \n",
       "3  Rovine del tempio di Giove all'ingresso del Su...  GAR_Ilario Di Nardo  \n",
       "4                                                NaN  GAR_Ilario Di Nardo  "
      ]
     },
     "execution_count": 3,
     "metadata": {},
     "output_type": "execute_result"
    }
   ],
   "source": [
    "metadata_it.head()"
   ]
  },
  {
   "cell_type": "code",
   "execution_count": 4,
   "metadata": {
    "collapsed": false
   },
   "outputs": [
    {
     "data": {
      "text/html": [
       "<div>\n",
       "<table border=\"1\" class=\"dataframe\">\n",
       "  <thead>\n",
       "    <tr style=\"text-align: right;\">\n",
       "      <th></th>\n",
       "      <th>Title</th>\n",
       "      <th>Year</th>\n",
       "      <th>Place</th>\n",
       "      <th>Subject</th>\n",
       "      <th>Description</th>\n",
       "      <th>Author</th>\n",
       "    </tr>\n",
       "  </thead>\n",
       "  <tbody>\n",
       "    <tr>\n",
       "      <th>0</th>\n",
       "      <td>Aleppo_Cittadella_01</td>\n",
       "      <td>2006</td>\n",
       "      <td>Aleppo</td>\n",
       "      <td>Citadel</td>\n",
       "      <td>Porta di ingresso</td>\n",
       "      <td>GAR_Ilario Di Nardo</td>\n",
       "    </tr>\n",
       "    <tr>\n",
       "      <th>1</th>\n",
       "      <td>Amrit_Sepolcro_01</td>\n",
       "      <td>2006</td>\n",
       "      <td>Amrit</td>\n",
       "      <td>Meghazil tomb</td>\n",
       "      <td>NaN</td>\n",
       "      <td>GAR_Ilario Di Nardo</td>\n",
       "    </tr>\n",
       "    <tr>\n",
       "      <th>2</th>\n",
       "      <td>Bosra_Teatro Romano_01</td>\n",
       "      <td>2006</td>\n",
       "      <td>Bosra</td>\n",
       "      <td>Roman theater</td>\n",
       "      <td>Bosra è un'antica città nel sud della Siria, p...</td>\n",
       "      <td>GAR_Ilario Di Nardo</td>\n",
       "    </tr>\n",
       "    <tr>\n",
       "      <th>3</th>\n",
       "      <td>Damasco_Tempio di Giove_01</td>\n",
       "      <td>2006</td>\n",
       "      <td>Damascus</td>\n",
       "      <td>Jupiter temple</td>\n",
       "      <td>Rovine del tempio di Giove all'ingresso del Su...</td>\n",
       "      <td>GAR_Ilario Di Nardo</td>\n",
       "    </tr>\n",
       "    <tr>\n",
       "      <th>4</th>\n",
       "      <td>Dura Europos_Panorama_01</td>\n",
       "      <td>2006</td>\n",
       "      <td>Dura Europos</td>\n",
       "      <td>Panorama</td>\n",
       "      <td>NaN</td>\n",
       "      <td>GAR_Ilario Di Nardo</td>\n",
       "    </tr>\n",
       "  </tbody>\n",
       "</table>\n",
       "</div>"
      ],
      "text/plain": [
       "                        Title  Year         Place         Subject  \\\n",
       "0        Aleppo_Cittadella_01  2006        Aleppo         Citadel   \n",
       "1           Amrit_Sepolcro_01  2006         Amrit   Meghazil tomb   \n",
       "2      Bosra_Teatro Romano_01  2006         Bosra   Roman theater   \n",
       "3  Damasco_Tempio di Giove_01  2006      Damascus  Jupiter temple   \n",
       "4    Dura Europos_Panorama_01  2006  Dura Europos        Panorama   \n",
       "\n",
       "                                         Description               Author  \n",
       "0                                  Porta di ingresso  GAR_Ilario Di Nardo  \n",
       "1                                                NaN  GAR_Ilario Di Nardo  \n",
       "2  Bosra è un'antica città nel sud della Siria, p...  GAR_Ilario Di Nardo  \n",
       "3  Rovine del tempio di Giove all'ingresso del Su...  GAR_Ilario Di Nardo  \n",
       "4                                                NaN  GAR_Ilario Di Nardo  "
      ]
     },
     "execution_count": 4,
     "metadata": {},
     "output_type": "execute_result"
    }
   ],
   "source": [
    "metadata_en.head()"
   ]
  },
  {
   "cell_type": "code",
   "execution_count": 5,
   "metadata": {
    "collapsed": false
   },
   "outputs": [
    {
     "data": {
      "text/html": [
       "<div>\n",
       "<table border=\"1\" class=\"dataframe\">\n",
       "  <thead>\n",
       "    <tr style=\"text-align: right;\">\n",
       "      <th></th>\n",
       "      <th>Nome foto</th>\n",
       "      <th>Anno</th>\n",
       "      <th>Luogo</th>\n",
       "      <th>Nome monumento</th>\n",
       "      <th>Descrizione</th>\n",
       "      <th>Nome autore</th>\n",
       "      <th>Title</th>\n",
       "      <th>Year</th>\n",
       "      <th>Place</th>\n",
       "      <th>Subject</th>\n",
       "      <th>Description</th>\n",
       "      <th>Author</th>\n",
       "    </tr>\n",
       "  </thead>\n",
       "  <tbody>\n",
       "    <tr>\n",
       "      <th>0</th>\n",
       "      <td>Aleppo_Cittadella_01</td>\n",
       "      <td>2006</td>\n",
       "      <td>Aleppo</td>\n",
       "      <td>Cittadella</td>\n",
       "      <td>Porta di ingresso</td>\n",
       "      <td>GAR_Ilario Di Nardo</td>\n",
       "      <td>Aleppo_Cittadella_01</td>\n",
       "      <td>2006</td>\n",
       "      <td>Aleppo</td>\n",
       "      <td>Citadel</td>\n",
       "      <td>Porta di ingresso</td>\n",
       "      <td>GAR_Ilario Di Nardo</td>\n",
       "    </tr>\n",
       "    <tr>\n",
       "      <th>1</th>\n",
       "      <td>Amrit_Sepolcro_01</td>\n",
       "      <td>2006</td>\n",
       "      <td>Amrit</td>\n",
       "      <td>Meghazil Sepolcro</td>\n",
       "      <td>NaN</td>\n",
       "      <td>GAR_Ilario Di Nardo</td>\n",
       "      <td>Amrit_Sepolcro_01</td>\n",
       "      <td>2006</td>\n",
       "      <td>Amrit</td>\n",
       "      <td>Meghazil tomb</td>\n",
       "      <td>NaN</td>\n",
       "      <td>GAR_Ilario Di Nardo</td>\n",
       "    </tr>\n",
       "    <tr>\n",
       "      <th>2</th>\n",
       "      <td>Bosra_Teatro Romano_01</td>\n",
       "      <td>2006</td>\n",
       "      <td>Bosra</td>\n",
       "      <td>Teatro Romano</td>\n",
       "      <td>Bosra è un'antica città nel sud della Siria, p...</td>\n",
       "      <td>GAR_Ilario Di Nardo</td>\n",
       "      <td>Bosra_Teatro Romano_01</td>\n",
       "      <td>2006</td>\n",
       "      <td>Bosra</td>\n",
       "      <td>Roman theater</td>\n",
       "      <td>Bosra è un'antica città nel sud della Siria, p...</td>\n",
       "      <td>GAR_Ilario Di Nardo</td>\n",
       "    </tr>\n",
       "    <tr>\n",
       "      <th>3</th>\n",
       "      <td>Damasco_Tempio di Giove_01</td>\n",
       "      <td>2006</td>\n",
       "      <td>Damasco</td>\n",
       "      <td>Tempio di Giove</td>\n",
       "      <td>Rovine del tempio di Giove all'ingresso del Su...</td>\n",
       "      <td>GAR_Ilario Di Nardo</td>\n",
       "      <td>Damasco_Tempio di Giove_01</td>\n",
       "      <td>2006</td>\n",
       "      <td>Damascus</td>\n",
       "      <td>Jupiter temple</td>\n",
       "      <td>Rovine del tempio di Giove all'ingresso del Su...</td>\n",
       "      <td>GAR_Ilario Di Nardo</td>\n",
       "    </tr>\n",
       "    <tr>\n",
       "      <th>4</th>\n",
       "      <td>Dura Europos_Panorama_01</td>\n",
       "      <td>2006</td>\n",
       "      <td>Dura Europos</td>\n",
       "      <td>Panorama</td>\n",
       "      <td>NaN</td>\n",
       "      <td>GAR_Ilario Di Nardo</td>\n",
       "      <td>Dura Europos_Panorama_01</td>\n",
       "      <td>2006</td>\n",
       "      <td>Dura Europos</td>\n",
       "      <td>Panorama</td>\n",
       "      <td>NaN</td>\n",
       "      <td>GAR_Ilario Di Nardo</td>\n",
       "    </tr>\n",
       "  </tbody>\n",
       "</table>\n",
       "</div>"
      ],
      "text/plain": [
       "                    Nome foto  Anno         Luogo     Nome monumento  \\\n",
       "0        Aleppo_Cittadella_01  2006        Aleppo         Cittadella   \n",
       "1           Amrit_Sepolcro_01  2006         Amrit  Meghazil Sepolcro   \n",
       "2      Bosra_Teatro Romano_01  2006         Bosra      Teatro Romano   \n",
       "3  Damasco_Tempio di Giove_01  2006       Damasco    Tempio di Giove   \n",
       "4    Dura Europos_Panorama_01  2006  Dura Europos           Panorama   \n",
       "\n",
       "                                         Descrizione          Nome autore  \\\n",
       "0                                  Porta di ingresso  GAR_Ilario Di Nardo   \n",
       "1                                                NaN  GAR_Ilario Di Nardo   \n",
       "2  Bosra è un'antica città nel sud della Siria, p...  GAR_Ilario Di Nardo   \n",
       "3  Rovine del tempio di Giove all'ingresso del Su...  GAR_Ilario Di Nardo   \n",
       "4                                                NaN  GAR_Ilario Di Nardo   \n",
       "\n",
       "                        Title  Year         Place         Subject  \\\n",
       "0        Aleppo_Cittadella_01  2006        Aleppo         Citadel   \n",
       "1           Amrit_Sepolcro_01  2006         Amrit   Meghazil tomb   \n",
       "2      Bosra_Teatro Romano_01  2006         Bosra   Roman theater   \n",
       "3  Damasco_Tempio di Giove_01  2006      Damascus  Jupiter temple   \n",
       "4    Dura Europos_Panorama_01  2006  Dura Europos        Panorama   \n",
       "\n",
       "                                         Description               Author  \n",
       "0                                  Porta di ingresso  GAR_Ilario Di Nardo  \n",
       "1                                                NaN  GAR_Ilario Di Nardo  \n",
       "2  Bosra è un'antica città nel sud della Siria, p...  GAR_Ilario Di Nardo  \n",
       "3  Rovine del tempio di Giove all'ingresso del Su...  GAR_Ilario Di Nardo  \n",
       "4                                                NaN  GAR_Ilario Di Nardo  "
      ]
     },
     "execution_count": 5,
     "metadata": {},
     "output_type": "execute_result"
    }
   ],
   "source": [
    "merged = pd.concat([metadata_it,metadata_en], axis=1) \n",
    "merged.head()"
   ]
  },
  {
   "cell_type": "markdown",
   "metadata": {},
   "source": [
    "# Keyword mappings\n",
    "\n",
    "Manual mappings of places, people and keywords for categories. They are published as wikitables and can be found here:\n",
    "\n",
    "https://commons.wikimedia.org/w/index.php?title=Special%3APrefixIndex&prefix=Gruppo+Archeologico+Romano%2FBatch+upload%2F&namespace=4"
   ]
  },
  {
   "cell_type": "markdown",
   "metadata": {},
   "source": [
    "## Places (Luogo)\n",
    "\n",
    "We have two different mappings of places, one general based on the column \"Place (Luogo)\" in the original metadata file and one more specific which is a combination of the columns \"Place (Luogo)\" and \"Subject (Nome monumento)\". \n",
    "\n",
    "The mapping can be found here:\n",
    "\n",
    "https://commons.wikimedia.org/wiki/Commons:Gruppo_Archeologico_Romano/Batch_upload/places"
   ]
  },
  {
   "cell_type": "code",
   "execution_count": 7,
   "metadata": {
    "collapsed": false
   },
   "outputs": [],
   "source": [
    "place_mappings_url = \"https://commons.wikimedia.org/wiki/Commons:Gruppo_Archeologico_Romano/Batch_upload/places\"\n",
    "place_mappings = pd.read_html(place_mappings_url, attrs = {\"class\":\"wikitable\"}, header=0)\n",
    "# print(len(place_mappings))\n",
    "place_mappings_general = place_mappings[0]\n",
    "place_mappings_general = place_mappings_general.set_index(\"Luogo\")\n",
    "place_mappings_specific = place_mappings[1]\n",
    "place_mappings_specific[\"Specific place\"] = place_mappings_specific.Luogo + \" \" + place_mappings_specific[\"Nome monumento\"]\n",
    "place_mappings_specific = place_mappings_specific[[\"Specific place\" ,\"Luogo\",\"Nome monumento\",\"category\",\"wikidata\"]]\n",
    "place_mappings_specific = place_mappings_specific.set_index(\"Specific place\")"
   ]
  },
  {
   "cell_type": "code",
   "execution_count": 8,
   "metadata": {
    "collapsed": false
   },
   "outputs": [
    {
     "name": "stdout",
     "output_type": "stream",
     "text": [
      "                       frequency                     category  wikidata\n",
      "Luogo                                                                  \n",
      "Aleppo                        75              Category:Aleppo       NaN\n",
      "Palmira                       44             Category:Palmyra       NaN\n",
      "Palmyra                       40             Category:Palmyra       NaN\n",
      "Apamea                        31              Category:Apamea       NaN\n",
      "Hama                          23                Category:Hama       NaN\n",
      "Dura Europos                  17        Category:Dura Europos       NaN\n",
      "Bosra                         11               Category:Bosra       NaN\n",
      "Jebl Zawiya                   11                          NaN       NaN\n",
      "Castello del Saladino          9  Category:Castle of Saladdin       NaN\n",
      "Sergiopolis                    8              Category:Resafa       NaN\n"
     ]
    }
   ],
   "source": [
    "print(place_mappings_general.head(10))"
   ]
  },
  {
   "cell_type": "code",
   "execution_count": 9,
   "metadata": {
    "collapsed": false
   },
   "outputs": [
    {
     "name": "stdout",
     "output_type": "stream",
     "text": [
      "                                                           Luogo  \\\n",
      "Specific place                                                     \n",
      "Aleppo Cittadella                                         Aleppo   \n",
      "Palmira Tempio di Baal                                   Palmira   \n",
      "Aleppo Suq                                                Aleppo   \n",
      "Qasr al-Hayr al-Sharqi Palazzo Omayyade   Qasr al-Hayr al-Sharqi   \n",
      "Yabroud Necropoli di Yabroud                             Yabroud   \n",
      "Sergiopolis Cattedrale bizantina                     Sergiopolis   \n",
      "Halabiyah Fortezza                                     Halabiyah   \n",
      "Apamea Tra i bambini del villaggio arabo                  Apamea   \n",
      "Mari Palazzo di Zimri-Lin                                   Mari   \n",
      "Palmyra Interno dell'Ipogeo di Artaban                   Palmyra   \n",
      "\n",
      "                                                             Nome monumento  \\\n",
      "Specific place                                                                \n",
      "Aleppo Cittadella                                                Cittadella   \n",
      "Palmira Tempio di Baal                                       Tempio di Baal   \n",
      "Aleppo Suq                                                              Suq   \n",
      "Qasr al-Hayr al-Sharqi Palazzo Omayyade                    Palazzo Omayyade   \n",
      "Yabroud Necropoli di Yabroud                           Necropoli di Yabroud   \n",
      "Sergiopolis Cattedrale bizantina                       Cattedrale bizantina   \n",
      "Halabiyah Fortezza                                                 Fortezza   \n",
      "Apamea Tra i bambini del villaggio arabo  Tra i bambini del villaggio arabo   \n",
      "Mari Palazzo di Zimri-Lin                              Palazzo di Zimri-Lin   \n",
      "Palmyra Interno dell'Ipogeo di Artaban       Interno dell'Ipogeo di Artaban   \n",
      "\n",
      "                                                                          category  \\\n",
      "Specific place                                                                       \n",
      "Aleppo Cittadella                                          Category:Aleppo citadel   \n",
      "Palmira Tempio di Baal                    Category:Temple of Baal Category:Palmyra   \n",
      "Aleppo Suq                                                         Category:Aleppo   \n",
      "Qasr al-Hayr al-Sharqi Palazzo Omayyade                                        NaN   \n",
      "Yabroud Necropoli di Yabroud                                                   NaN   \n",
      "Sergiopolis Cattedrale bizantina                                               NaN   \n",
      "Halabiyah Fortezza                                                             NaN   \n",
      "Apamea Tra i bambini del villaggio arabo                                       NaN   \n",
      "Mari Palazzo di Zimri-Lin                                                      NaN   \n",
      "Palmyra Interno dell'Ipogeo di Artaban                                         NaN   \n",
      "\n",
      "                                           wikidata  \n",
      "Specific place                                       \n",
      "Aleppo Cittadella                         d:Q206231  \n",
      "Palmira Tempio di Baal                          NaN  \n",
      "Aleppo Suq                                      NaN  \n",
      "Qasr al-Hayr al-Sharqi Palazzo Omayyade         NaN  \n",
      "Yabroud Necropoli di Yabroud                    NaN  \n",
      "Sergiopolis Cattedrale bizantina                NaN  \n",
      "Halabiyah Fortezza                              NaN  \n",
      "Apamea Tra i bambini del villaggio arabo        NaN  \n",
      "Mari Palazzo di Zimri-Lin                       NaN  \n",
      "Palmyra Interno dell'Ipogeo di Artaban          NaN  \n"
     ]
    }
   ],
   "source": [
    "print(place_mappings_specific.head(10))"
   ]
  },
  {
   "cell_type": "markdown",
   "metadata": {},
   "source": [
    "# Population of {{Photograph}}\n",
    "\n",
    "## Template mapping"
   ]
  },
  {
   "cell_type": "raw",
   "metadata": {},
   "source": [
    " |photographer       = <en-Author[4:]>\n",
    " |title              =  \n",
    "{{it|’’’<Nome foto[:-3]>’’’}}\n",
    "{{en|<Title[:-3]>}}\n",
    " |description        =\n",
    "{{en|<Description> OR <Subject>, <Place> in <year>}}\n",
    "{{it|<Descrizione> OR <Nome monumento>, <Luogo>, <Anno>}} \n",
    " |depicted people    = \n",
    " |depicted place     =  {{city|<wikidata from Specific Place mapping> OR <wikidata from Luogo (place) mapping>}} OR <Subject, Place>\n",
    " |date               = <Year>\n",
    " |medium             = \n",
    " |dimensions         =\n",
    " |institution        = {{Institution:Gruppo Archeologico Romano}}\n",
    " |department         =\n",
    " |references         =\n",
    " |object history     =\n",
    " |exhibition history =\n",
    " |credit line        =\n",
    " |inscriptions       =\n",
    " |notes              =\n",
    " |accession number   =\n",
    " |source             = {{Gruppo Archeologico Romano cooperation project|COH}}\n",
    " |permission         = {{CC-BY-SA-4.0|<en-Author[4:]> / ”GAR”}}\n",
    "{{PermissionOTRS|id=2016042410005958}}\n",
    " |other_versions     =\n",
    "}}"
   ]
  },
  {
   "cell_type": "markdown",
   "metadata": {},
   "source": [
    "## Code"
   ]
  },
  {
   "cell_type": "code",
   "execution_count": 21,
   "metadata": {
    "collapsed": false
   },
   "outputs": [
    {
     "name": "stdout",
     "output_type": "stream",
     "text": [
      "Warning! Empty Author column in row no 218 photo Aleppo_suq_04\n",
      "Warning! Empty Author column in row no 219 photo Aleppo_suq_05\n",
      "Warning! Empty Author column in row no 220 photo Aleppo_suq_06\n",
      "Warning! Empty Author column in row no 221 photo Aleppo_suq_07\n"
     ]
    }
   ],
   "source": [
    "for row_no, row in merged.iterrows():\n",
    "    template_parts = []\n",
    "    \n",
    "    header = \"{{Photograph\"\n",
    "    template_parts.append(header)\n",
    "    \n",
    "    if not pd.isnull(row[\"Author\"]):\n",
    "        photographer = \"|photographer = \" + row[\"Author\"][4:]\n",
    "    else:\n",
    "        print(\"Warning! Empty Author column in row no {} photo {}\".format(row_no, row[\"Nome foto\"]))\n",
    "        photographer = \"|photographer = \"\n",
    "    template_parts.append(photographer)\n",
    "    \n",
    "    title_it =  \"{{it|'''\" + regex.sub(\"_\",\" \",row[\"Nome foto\"][:-3]) + \"'''}}\"\n",
    "    title_en = \"{{en|'''\" + regex.sub(\"_\",\" \", row[\"Title\"][:-3]) + \"'''}}\"\n",
    "    title = \"|title = \" + title_it + title_en\n",
    "    template_parts.append(title)\n",
    "    \n",
    "    if pd.notnull(row[\"Description\"]):\n",
    "        if len(row[\"Description\"].split()) >= 3:\n",
    "            description_en = \"{{en| = \" + row[\"Description\"] + \"}}\"\n",
    "        else:\n",
    "            description_en = \"{{en| = \" + str(row[\"Subject\"]) + \" \" + str(row[\"Place\"]) + \" in \" + str(row[\"Year\"]) + \"}}\"\n",
    "    else:\n",
    "        description_en = \"{{en| = \" + str(row[\"Subject\"]) + \" \" + str(row[\"Place\"]) + \" in \" + str(row[\"Year\"]) + \"}}\"\n",
    "    \n",
    "    if pd.notnull(row[\"Descrizione\"]):\n",
    "        if len(row[\"Descrizione\"].split()) >= 3:\n",
    "            description_it = \"{{it| = \" + row[\"Descrizione\"] + \"}}\"\n",
    "        else:\n",
    "            description_it = \"{{it| = \" + str(row[\"Nome monumento\"]) + \" \" + str(row[\"Luogo\"]) + \" \" + str(row[\"Anno\"]) + \"}}\"\n",
    "    else:\n",
    "        description_it = \"{{it| = \" + str(row[\"Nome monumento\"]) + \" \" + str(row[\"Luogo\"]) + \" \" + str(row[\"Anno\"]) + \"}}\"\n",
    "    \n",
    "    description = \"|description = \" + description_it + description_en\n",
    "    template_parts.append(description)\n",
    "    \n",
    "    depicted_people = \"|depicted people =\"\n",
    "    template_parts.append(depicted_people)\n",
    "    \n",
    "    if pd.notnull(place_mappings_specific.loc[row[\"Luogo\"] + \" \" + row[\"Nome monumento\"]][\"wikidata\"]):\n",
    "        depicted_place = \"|depicted place = {{city|\" + \\\n",
    "        place_mappings_specific.loc[row[\"Luogo\"] + \" \" + row[\"Nome monumento\"]][\"wikidata\"] + \"}}\"\n",
    "        #print(depicted_place)\n",
    "    elif pd.notnull(place_mappings_general.loc[row[\"Luogo\"]][\"wikidata\"]):\n",
    "        depicted_place = \"|depicted place = {{city|\" + \\\n",
    "        place_mappings_specific.loc[row[\"Luogo\"]][\"wikidata\"] + \"}}\"\n",
    "        #print(depicted_place)\n",
    "    else:\n",
    "        depicted_place = \"|depicted place = \" + row[\"Luogo\"] + \" \" + row[\"Nome monumento\"]\n",
    "        #print(depicted_place)\n",
    "    \n",
    "    if pd.notnull(row[\"Year\"]):\n",
    "        date = \"|date = \" + str(row[\"Year\"])\n",
    "    else:\n",
    "        date = \"|date = \"\n",
    "    template_parts.append(date)\n",
    "        \n",
    "    medium = \"|medium =\" \n",
    "    template_parts.append(medium)\n",
    "    \n",
    "    dimensions = \"|dimensions =\"\n",
    "    template_parts.append(dimensions)\n",
    "    \n",
    "    institution = \"|institution = {{Institution:Gruppo Archeologico Romano}}\"\n",
    "    template_parts.append(institution)\n",
    "    \n",
    "    department = \"|department =\"\n",
    "    template_parts.append(department)\n",
    "    \n",
    "    references = \"|references =\"\n",
    "    template_parts.append(references)\n",
    "    \n",
    "    object_history = \"|object history =\"\n",
    "    template_parts.append(object_history)\n",
    "    \n",
    "    exhibition_history = \"|exhibition history =\"\n",
    "    template_parts.append(exhibition_history)\n",
    "    \n",
    "    credit_line = \"|credit line =\"\n",
    "    template_parts.append(credit_line)\n",
    "    \n",
    "    inscriptions = \"|inscriptions =\"\n",
    "    template_parts.append(inscriptions)\n",
    "    \n",
    "    notes = \"|notes =\"\n",
    "    template_parts.append(notes)\n",
    "    \n",
    "    accession_number = \"|accession number =\"\n",
    "    template_parts.append(accession_number)\n",
    "    \n",
    "    source = \"|source = {{Gruppo Archeologico Romano cooperation project|COH}}\"\n",
    "    template_parts.append(source)\n",
    "    \n",
    "    if pd.notnull(row[\"Author\"]):\n",
    "        permission = \"|permission = {{CC-BY-SA-4.0|\" + row[\"Author\"][4:] + \"|GAR}}{{PermissionOTRS|id=2016042410005958}}\"\n",
    "    else:\n",
    "        permission = \"|permission = {{CC-BY-SA-4.0|Gruppo Archeologico Romano}}{{PermissionOTRS|id=2016042410005958}}\"\n",
    "    template_parts.append(permission)\n",
    "    \n",
    "    other_versions = \"|other_versions =\"\n",
    "    template_parts.append(other_versions)\n",
    "    \n",
    "    template_parts.append(\"}}\")\n",
    "    \n",
    "    \n",
    "    categories_list = []\n",
    "    # [[Category:<Category from Specific Place> AND/OR <Category from Luogo (place)>]] \n",
    "    specific_place_category = None\n",
    "    general_place_category = None\n",
    "    maintanence_category = None\n",
    "    batchupload_category = \"[[Category:Images_from_GAR_Syria_2016-06]]\"\n",
    "    \n",
    "    if pd.notnull(place_mappings_specific.loc[row[\"Luogo\"] + \" \" + row[\"Nome monumento\"]][\"category\"]):\n",
    "        specific_place_category = \"[[\" + place_mappings_specific.loc[row[\"Luogo\"] + \" \" + row[\"Nome monumento\"]][\"category\"] + \"]]\"\n",
    "        #print(specific_place_category)\n",
    "    \n",
    "    elif pd.notnull(place_mappings_general.loc[row[\"Luogo\"]][\"category\"]):\n",
    "        general_place_category = \"[[\" + place_mappings_general.loc[row[\"Luogo\"]][\"category\"] + \"]]\"\n",
    "        #print(general_place_category)\n",
    "    \n",
    "    # [[Category:Images_from_GAR_Syria_2016-06]]\n",
    "    else:\n",
    "        maintanence_category = \"[[Category:Images_from_GAR_Syria_without_categories]]\"\n",
    "    \n",
    "    if specific_place_category:\n",
    "        categories_list.append(specific_place_category)\n",
    "    elif general_place_category:\n",
    "        categories_list.append(general_place_category)\n",
    "    elif maintanence_category:\n",
    "        categories_list.append(maintanence_category)\n",
    "    else:\n",
    "        pass\n",
    "    \n",
    "    categories_list.append(batchupload_category)\n",
    "\n",
    "    #print(categories_list)\n",
    "    \n",
    "    # Filename: <Nome foto[:-3]>_GAR_<Nome foto[-3:]>.<ext>\n",
    "    outpath = \"./photograph_template_texts/\"\n",
    "    fname = row[\"Nome foto\"][:-3] + \"_GAR_\" + row[\"Nome foto\"][-3:] \n",
    "    if not os.path.exists(outpath):\n",
    "        os.mkdir(outpath)\n",
    "        outfile = open(outpath + fname, \"w\")\n",
    "        outfile.write(\"\\n\".join(template_parts) + \"\\n\" + \"\\n\".join(categories_list))\n",
    "    else:\n",
    "        outfile = open(outpath + fname, \"w\")\n",
    "        outfile.write(\"\\n\".join(template_parts) + \"\\n\" + \"\\n\".join(categories_list))"
   ]
  },
  {
   "cell_type": "code",
   "execution_count": 199,
   "metadata": {
    "collapsed": false
   },
   "outputs": [
    {
     "data": {
      "text/plain": [
       "True"
      ]
     },
     "execution_count": 199,
     "metadata": {},
     "output_type": "execute_result"
    }
   ],
   "source": [
    "place_mappings_specific[place_mappings_specific[\"building\"] == row[\"Nome monumento\"]][\"wikidata\"].all()"
   ]
  },
  {
   "cell_type": "code",
   "execution_count": 12,
   "metadata": {
    "collapsed": false
   },
   "outputs": [],
   "source": [
    "l = None"
   ]
  },
  {
   "cell_type": "code",
   "execution_count": 14,
   "metadata": {
    "collapsed": false
   },
   "outputs": [
    {
     "name": "stdout",
     "output_type": "stream",
     "text": [
      "None\n"
     ]
    }
   ],
   "source": [
    "print(l)"
   ]
  },
  {
   "cell_type": "code",
   "execution_count": 15,
   "metadata": {
    "collapsed": false
   },
   "outputs": [
    {
     "data": {
      "text/plain": [
       "False"
      ]
     },
     "execution_count": 15,
     "metadata": {},
     "output_type": "execute_result"
    }
   ],
   "source": [
    "l == False"
   ]
  },
  {
   "cell_type": "code",
   "execution_count": 16,
   "metadata": {
    "collapsed": false
   },
   "outputs": [
    {
     "data": {
      "text/plain": [
       "False"
      ]
     },
     "execution_count": 16,
     "metadata": {},
     "output_type": "execute_result"
    }
   ],
   "source": [
    "l == True"
   ]
  },
  {
   "cell_type": "code",
   "execution_count": 18,
   "metadata": {
    "collapsed": false
   },
   "outputs": [
    {
     "name": "stdout",
     "output_type": "stream",
     "text": [
      "L?\n"
     ]
    }
   ],
   "source": [
    "if l:\n",
    "    print(\"L!\")\n",
    "else:\n",
    "    print(\"L?\")"
   ]
  },
  {
   "cell_type": "code",
   "execution_count": null,
   "metadata": {
    "collapsed": true
   },
   "outputs": [],
   "source": []
  }
 ],
 "metadata": {
  "anaconda-cloud": {},
  "kernelspec": {
   "display_name": "Python [Root]",
   "language": "python",
   "name": "Python [Root]"
  },
  "language_info": {
   "codemirror_mode": {
    "name": "ipython",
    "version": 3
   },
   "file_extension": ".py",
   "mimetype": "text/x-python",
   "name": "python",
   "nbconvert_exporter": "python",
   "pygments_lexer": "ipython3",
   "version": "3.5.1"
  }
 },
 "nbformat": 4,
 "nbformat_minor": 0
}
